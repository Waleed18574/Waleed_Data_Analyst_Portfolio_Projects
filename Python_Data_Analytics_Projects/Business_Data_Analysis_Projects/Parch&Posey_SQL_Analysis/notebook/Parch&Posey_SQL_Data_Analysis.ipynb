{
 "cells": [
  {
   "cell_type": "markdown",
   "id": "b1b88f4d",
   "metadata": {},
   "source": [
    "# Parch & Posey Data Analysis with SQL & Pandas"
   ]
  },
  {
   "cell_type": "markdown",
   "id": "d480e87c",
   "metadata": {},
   "source": [
    "## Importing Required Libraries"
   ]
  },
  {
   "cell_type": "code",
   "execution_count": 1,
   "id": "3b68d2ee",
   "metadata": {},
   "outputs": [],
   "source": [
    "import pandas as pd\n",
    "import psycopg2"
   ]
  },
  {
   "cell_type": "markdown",
   "id": "cbc6bee2",
   "metadata": {},
   "source": [
    "## Connecting to Database"
   ]
  },
  {
   "cell_type": "code",
   "execution_count": 2,
   "id": "dc23bee0",
   "metadata": {},
   "outputs": [],
   "source": [
    "hostname= 'localhost'\n",
    "port_id= 5432\n",
    "database= 'Parch_and_Posey'\n",
    "username= 'postgres'\n",
    "pwd= 'Iamwaleedsiendeed1'"
   ]
  },
  {
   "cell_type": "code",
   "execution_count": 3,
   "id": "f242fa34",
   "metadata": {},
   "outputs": [],
   "source": [
    "try:\n",
    "    conn = psycopg2.connect(host= hostname,\n",
    "                            dbname = database,\n",
    "                            user = username,\n",
    "                            password = pwd,\n",
    "                            port = port_id\n",
    "                            )\n",
    "except Exception as error:\n",
    "    print(error)"
   ]
  },
  {
   "cell_type": "markdown",
   "id": "b316f68f",
   "metadata": {},
   "source": [
    "### Preparing the Pandas Dataframe"
   ]
  },
  {
   "cell_type": "code",
   "execution_count": 4,
   "id": "6b22c10e",
   "metadata": {},
   "outputs": [],
   "source": [
    "accounts_script = \"\"\"select * from accounts\"\"\"\n",
    "orders_script = \"\"\"select * from orders\"\"\"\n",
    "regions_script = \"\"\"select * from region\"\"\"\n",
    "salesPeople_script = \"\"\"select * from sales_reps\"\"\""
   ]
  },
  {
   "cell_type": "code",
   "execution_count": 5,
   "id": "be2cf41a",
   "metadata": {},
   "outputs": [],
   "source": [
    "accounts = pd.read_sql_query(accounts_script,con=conn)\n",
    "orders = pd.read_sql_query(orders_script,con=conn)\n",
    "regions = pd.read_sql_query(regions_script,con=conn)\n",
    "sr = pd.read_sql_query(salesPeople_script,con=conn)"
   ]
  },
  {
   "cell_type": "code",
   "execution_count": 6,
   "id": "0224be49",
   "metadata": {
    "scrolled": true
   },
   "outputs": [
    {
     "data": {
      "text/html": [
       "<div>\n",
       "<style scoped>\n",
       "    .dataframe tbody tr th:only-of-type {\n",
       "        vertical-align: middle;\n",
       "    }\n",
       "\n",
       "    .dataframe tbody tr th {\n",
       "        vertical-align: top;\n",
       "    }\n",
       "\n",
       "    .dataframe thead th {\n",
       "        text-align: right;\n",
       "    }\n",
       "</style>\n",
       "<table border=\"1\" class=\"dataframe\">\n",
       "  <thead>\n",
       "    <tr style=\"text-align: right;\">\n",
       "      <th></th>\n",
       "      <th>id</th>\n",
       "      <th>name</th>\n",
       "      <th>website</th>\n",
       "      <th>lat</th>\n",
       "      <th>long</th>\n",
       "      <th>primary_poc</th>\n",
       "      <th>sales_rep_id</th>\n",
       "    </tr>\n",
       "  </thead>\n",
       "  <tbody>\n",
       "    <tr>\n",
       "      <th>0</th>\n",
       "      <td>1001</td>\n",
       "      <td>Walmart                                       ...</td>\n",
       "      <td>www.walmart.com                               ...</td>\n",
       "      <td>40.238496</td>\n",
       "      <td>-75.103297</td>\n",
       "      <td>Tamara Tuma                                   ...</td>\n",
       "      <td>321500</td>\n",
       "    </tr>\n",
       "    <tr>\n",
       "      <th>1</th>\n",
       "      <td>1011</td>\n",
       "      <td>Exxon Mobil                                   ...</td>\n",
       "      <td>www.exxonmobil.com                            ...</td>\n",
       "      <td>41.169156</td>\n",
       "      <td>-73.849374</td>\n",
       "      <td>Sung Shields                                  ...</td>\n",
       "      <td>321510</td>\n",
       "    </tr>\n",
       "    <tr>\n",
       "      <th>2</th>\n",
       "      <td>1021</td>\n",
       "      <td>Apple                                         ...</td>\n",
       "      <td>www.apple.com                                 ...</td>\n",
       "      <td>42.290495</td>\n",
       "      <td>-76.084009</td>\n",
       "      <td>Jodee Lupo                                    ...</td>\n",
       "      <td>321520</td>\n",
       "    </tr>\n",
       "  </tbody>\n",
       "</table>\n",
       "</div>"
      ],
      "text/plain": [
       "     id                                               name  \\\n",
       "0  1001  Walmart                                       ...   \n",
       "1  1011  Exxon Mobil                                   ...   \n",
       "2  1021  Apple                                         ...   \n",
       "\n",
       "                                             website        lat       long  \\\n",
       "0  www.walmart.com                               ...  40.238496 -75.103297   \n",
       "1  www.exxonmobil.com                            ...  41.169156 -73.849374   \n",
       "2  www.apple.com                                 ...  42.290495 -76.084009   \n",
       "\n",
       "                                         primary_poc  sales_rep_id  \n",
       "0  Tamara Tuma                                   ...        321500  \n",
       "1  Sung Shields                                  ...        321510  \n",
       "2  Jodee Lupo                                    ...        321520  "
      ]
     },
     "execution_count": 6,
     "metadata": {},
     "output_type": "execute_result"
    }
   ],
   "source": [
    "accounts.head(3)"
   ]
  },
  {
   "cell_type": "code",
   "execution_count": 7,
   "id": "33f0c9cf",
   "metadata": {},
   "outputs": [
    {
     "data": {
      "text/html": [
       "<div>\n",
       "<style scoped>\n",
       "    .dataframe tbody tr th:only-of-type {\n",
       "        vertical-align: middle;\n",
       "    }\n",
       "\n",
       "    .dataframe tbody tr th {\n",
       "        vertical-align: top;\n",
       "    }\n",
       "\n",
       "    .dataframe thead th {\n",
       "        text-align: right;\n",
       "    }\n",
       "</style>\n",
       "<table border=\"1\" class=\"dataframe\">\n",
       "  <thead>\n",
       "    <tr style=\"text-align: right;\">\n",
       "      <th></th>\n",
       "      <th>id</th>\n",
       "      <th>account_id</th>\n",
       "      <th>occurred_at</th>\n",
       "      <th>standard_qty</th>\n",
       "      <th>gloss_qty</th>\n",
       "      <th>poster_qty</th>\n",
       "      <th>total</th>\n",
       "      <th>standard_amt_usd</th>\n",
       "      <th>gloss_amt_usd</th>\n",
       "      <th>poster_amt_usd</th>\n",
       "      <th>total_amt_usd</th>\n",
       "    </tr>\n",
       "  </thead>\n",
       "  <tbody>\n",
       "    <tr>\n",
       "      <th>0</th>\n",
       "      <td>1</td>\n",
       "      <td>1001</td>\n",
       "      <td>2015-10-06 17:31:14</td>\n",
       "      <td>123</td>\n",
       "      <td>22</td>\n",
       "      <td>24</td>\n",
       "      <td>169</td>\n",
       "      <td>613.77</td>\n",
       "      <td>164.78</td>\n",
       "      <td>194.88</td>\n",
       "      <td>973.43</td>\n",
       "    </tr>\n",
       "    <tr>\n",
       "      <th>1</th>\n",
       "      <td>2</td>\n",
       "      <td>1001</td>\n",
       "      <td>2015-11-05 03:34:33</td>\n",
       "      <td>190</td>\n",
       "      <td>41</td>\n",
       "      <td>57</td>\n",
       "      <td>288</td>\n",
       "      <td>948.10</td>\n",
       "      <td>307.09</td>\n",
       "      <td>462.84</td>\n",
       "      <td>1718.03</td>\n",
       "    </tr>\n",
       "    <tr>\n",
       "      <th>2</th>\n",
       "      <td>3</td>\n",
       "      <td>1001</td>\n",
       "      <td>2015-12-04 04:21:55</td>\n",
       "      <td>85</td>\n",
       "      <td>47</td>\n",
       "      <td>0</td>\n",
       "      <td>132</td>\n",
       "      <td>424.15</td>\n",
       "      <td>352.03</td>\n",
       "      <td>0.00</td>\n",
       "      <td>776.18</td>\n",
       "    </tr>\n",
       "  </tbody>\n",
       "</table>\n",
       "</div>"
      ],
      "text/plain": [
       "   id  account_id         occurred_at  standard_qty  gloss_qty  poster_qty  \\\n",
       "0   1        1001 2015-10-06 17:31:14           123         22          24   \n",
       "1   2        1001 2015-11-05 03:34:33           190         41          57   \n",
       "2   3        1001 2015-12-04 04:21:55            85         47           0   \n",
       "\n",
       "   total  standard_amt_usd  gloss_amt_usd  poster_amt_usd  total_amt_usd  \n",
       "0    169            613.77         164.78          194.88         973.43  \n",
       "1    288            948.10         307.09          462.84        1718.03  \n",
       "2    132            424.15         352.03            0.00         776.18  "
      ]
     },
     "execution_count": 7,
     "metadata": {},
     "output_type": "execute_result"
    }
   ],
   "source": [
    "orders.head(3)"
   ]
  },
  {
   "cell_type": "code",
   "execution_count": 8,
   "id": "dc4e45a3",
   "metadata": {},
   "outputs": [
    {
     "data": {
      "text/html": [
       "<div>\n",
       "<style scoped>\n",
       "    .dataframe tbody tr th:only-of-type {\n",
       "        vertical-align: middle;\n",
       "    }\n",
       "\n",
       "    .dataframe tbody tr th {\n",
       "        vertical-align: top;\n",
       "    }\n",
       "\n",
       "    .dataframe thead th {\n",
       "        text-align: right;\n",
       "    }\n",
       "</style>\n",
       "<table border=\"1\" class=\"dataframe\">\n",
       "  <thead>\n",
       "    <tr style=\"text-align: right;\">\n",
       "      <th></th>\n",
       "      <th>id</th>\n",
       "      <th>name</th>\n",
       "    </tr>\n",
       "  </thead>\n",
       "  <tbody>\n",
       "    <tr>\n",
       "      <th>0</th>\n",
       "      <td>1</td>\n",
       "      <td>Northeast                                     ...</td>\n",
       "    </tr>\n",
       "    <tr>\n",
       "      <th>1</th>\n",
       "      <td>2</td>\n",
       "      <td>Midwest                                       ...</td>\n",
       "    </tr>\n",
       "    <tr>\n",
       "      <th>2</th>\n",
       "      <td>3</td>\n",
       "      <td>Southeast                                     ...</td>\n",
       "    </tr>\n",
       "  </tbody>\n",
       "</table>\n",
       "</div>"
      ],
      "text/plain": [
       "   id                                               name\n",
       "0   1  Northeast                                     ...\n",
       "1   2  Midwest                                       ...\n",
       "2   3  Southeast                                     ..."
      ]
     },
     "execution_count": 8,
     "metadata": {},
     "output_type": "execute_result"
    }
   ],
   "source": [
    "regions.head(3)"
   ]
  },
  {
   "cell_type": "code",
   "execution_count": 9,
   "id": "6e6882a3",
   "metadata": {},
   "outputs": [
    {
     "data": {
      "text/html": [
       "<div>\n",
       "<style scoped>\n",
       "    .dataframe tbody tr th:only-of-type {\n",
       "        vertical-align: middle;\n",
       "    }\n",
       "\n",
       "    .dataframe tbody tr th {\n",
       "        vertical-align: top;\n",
       "    }\n",
       "\n",
       "    .dataframe thead th {\n",
       "        text-align: right;\n",
       "    }\n",
       "</style>\n",
       "<table border=\"1\" class=\"dataframe\">\n",
       "  <thead>\n",
       "    <tr style=\"text-align: right;\">\n",
       "      <th></th>\n",
       "      <th>id</th>\n",
       "      <th>name</th>\n",
       "      <th>region_id</th>\n",
       "    </tr>\n",
       "  </thead>\n",
       "  <tbody>\n",
       "    <tr>\n",
       "      <th>0</th>\n",
       "      <td>321500</td>\n",
       "      <td>Samuel Racine                                 ...</td>\n",
       "      <td>1</td>\n",
       "    </tr>\n",
       "    <tr>\n",
       "      <th>1</th>\n",
       "      <td>321510</td>\n",
       "      <td>Eugena Esser                                  ...</td>\n",
       "      <td>1</td>\n",
       "    </tr>\n",
       "    <tr>\n",
       "      <th>2</th>\n",
       "      <td>321520</td>\n",
       "      <td>Michel Averette                               ...</td>\n",
       "      <td>1</td>\n",
       "    </tr>\n",
       "  </tbody>\n",
       "</table>\n",
       "</div>"
      ],
      "text/plain": [
       "       id                                               name  region_id\n",
       "0  321500  Samuel Racine                                 ...          1\n",
       "1  321510  Eugena Esser                                  ...          1\n",
       "2  321520  Michel Averette                               ...          1"
      ]
     },
     "execution_count": 9,
     "metadata": {},
     "output_type": "execute_result"
    }
   ],
   "source": [
    "sr.head(3)"
   ]
  },
  {
   "cell_type": "code",
   "execution_count": 10,
   "id": "27748452",
   "metadata": {
    "scrolled": false
   },
   "outputs": [
    {
     "name": "stdout",
     "output_type": "stream",
     "text": [
      "<class 'pandas.core.frame.DataFrame'>\n",
      "RangeIndex: 6911 entries, 0 to 6910\n",
      "Data columns (total 11 columns):\n",
      " #   Column            Non-Null Count  Dtype         \n",
      "---  ------            --------------  -----         \n",
      " 0   id                6911 non-null   int64         \n",
      " 1   account_id        6911 non-null   int64         \n",
      " 2   occurred_at       6911 non-null   datetime64[ns]\n",
      " 3   standard_qty      6911 non-null   int64         \n",
      " 4   gloss_qty         6911 non-null   int64         \n",
      " 5   poster_qty        6911 non-null   int64         \n",
      " 6   total             6911 non-null   int64         \n",
      " 7   standard_amt_usd  6911 non-null   float64       \n",
      " 8   gloss_amt_usd     6911 non-null   float64       \n",
      " 9   poster_amt_usd    6911 non-null   float64       \n",
      " 10  total_amt_usd     6911 non-null   float64       \n",
      "dtypes: datetime64[ns](1), float64(4), int64(6)\n",
      "memory usage: 594.0 KB\n",
      "None \n",
      "\n",
      "<class 'pandas.core.frame.DataFrame'>\n",
      "RangeIndex: 349 entries, 0 to 348\n",
      "Data columns (total 7 columns):\n",
      " #   Column        Non-Null Count  Dtype  \n",
      "---  ------        --------------  -----  \n",
      " 0   id            349 non-null    int64  \n",
      " 1   name          349 non-null    object \n",
      " 2   website       349 non-null    object \n",
      " 3   lat           349 non-null    float64\n",
      " 4   long          349 non-null    float64\n",
      " 5   primary_poc   349 non-null    object \n",
      " 6   sales_rep_id  349 non-null    int64  \n",
      "dtypes: float64(2), int64(2), object(3)\n",
      "memory usage: 19.2+ KB\n",
      "None \n",
      "\n",
      "<class 'pandas.core.frame.DataFrame'>\n",
      "RangeIndex: 50 entries, 0 to 49\n",
      "Data columns (total 3 columns):\n",
      " #   Column     Non-Null Count  Dtype \n",
      "---  ------     --------------  ----- \n",
      " 0   id         50 non-null     int64 \n",
      " 1   name       50 non-null     object\n",
      " 2   region_id  50 non-null     int64 \n",
      "dtypes: int64(2), object(1)\n",
      "memory usage: 1.3+ KB\n",
      "None \n",
      "\n",
      "<class 'pandas.core.frame.DataFrame'>\n",
      "RangeIndex: 4 entries, 0 to 3\n",
      "Data columns (total 2 columns):\n",
      " #   Column  Non-Null Count  Dtype \n",
      "---  ------  --------------  ----- \n",
      " 0   id      4 non-null      int64 \n",
      " 1   name    4 non-null      object\n",
      "dtypes: int64(1), object(1)\n",
      "memory usage: 192.0+ bytes\n",
      "None \n",
      "\n"
     ]
    }
   ],
   "source": [
    "tables = [orders,accounts,sr,regions]\n",
    "for table in tables:\n",
    "    print(table.info(),'\\n')"
   ]
  },
  {
   "cell_type": "code",
   "execution_count": 11,
   "id": "5a167daf",
   "metadata": {},
   "outputs": [],
   "source": [
    "orders.rename(columns={'occurred_at':'order_date_time','id':'order_id'}, inplace=True)\n",
    "accounts.rename(columns={'id':'account_id','sales_rep_id':'sales_person_id','name':'account'},inplace=True)\n",
    "sr.rename(columns = {'id':'sales_person_id','name':'sales_person'}, inplace = True)\n",
    "regions.rename(columns = {'id':'region_id','name':'region'}, inplace = True)"
   ]
  },
  {
   "cell_type": "code",
   "execution_count": 12,
   "id": "59cc6588",
   "metadata": {
    "scrolled": false
   },
   "outputs": [
    {
     "data": {
      "text/html": [
       "<div>\n",
       "<style scoped>\n",
       "    .dataframe tbody tr th:only-of-type {\n",
       "        vertical-align: middle;\n",
       "    }\n",
       "\n",
       "    .dataframe tbody tr th {\n",
       "        vertical-align: top;\n",
       "    }\n",
       "\n",
       "    .dataframe thead th {\n",
       "        text-align: right;\n",
       "    }\n",
       "</style>\n",
       "<table border=\"1\" class=\"dataframe\">\n",
       "  <thead>\n",
       "    <tr style=\"text-align: right;\">\n",
       "      <th></th>\n",
       "      <th>order_id</th>\n",
       "      <th>account_id</th>\n",
       "      <th>order_date_time</th>\n",
       "      <th>standard_qty</th>\n",
       "      <th>gloss_qty</th>\n",
       "      <th>poster_qty</th>\n",
       "      <th>total</th>\n",
       "      <th>standard_amt_usd</th>\n",
       "      <th>gloss_amt_usd</th>\n",
       "      <th>poster_amt_usd</th>\n",
       "      <th>total_amt_usd</th>\n",
       "      <th>account</th>\n",
       "      <th>website</th>\n",
       "      <th>lat</th>\n",
       "      <th>long</th>\n",
       "      <th>primary_poc</th>\n",
       "      <th>sales_person_id</th>\n",
       "      <th>sales_person</th>\n",
       "      <th>region_id</th>\n",
       "      <th>region</th>\n",
       "    </tr>\n",
       "  </thead>\n",
       "  <tbody>\n",
       "    <tr>\n",
       "      <th>0</th>\n",
       "      <td>1</td>\n",
       "      <td>1001</td>\n",
       "      <td>2015-10-06 17:31:14</td>\n",
       "      <td>123</td>\n",
       "      <td>22</td>\n",
       "      <td>24</td>\n",
       "      <td>169</td>\n",
       "      <td>613.77</td>\n",
       "      <td>164.78</td>\n",
       "      <td>194.88</td>\n",
       "      <td>973.43</td>\n",
       "      <td>Walmart                                       ...</td>\n",
       "      <td>www.walmart.com                               ...</td>\n",
       "      <td>40.238496</td>\n",
       "      <td>-75.103297</td>\n",
       "      <td>Tamara Tuma                                   ...</td>\n",
       "      <td>321500</td>\n",
       "      <td>Samuel Racine                                 ...</td>\n",
       "      <td>1</td>\n",
       "      <td>Northeast                                     ...</td>\n",
       "    </tr>\n",
       "    <tr>\n",
       "      <th>1</th>\n",
       "      <td>2</td>\n",
       "      <td>1001</td>\n",
       "      <td>2015-11-05 03:34:33</td>\n",
       "      <td>190</td>\n",
       "      <td>41</td>\n",
       "      <td>57</td>\n",
       "      <td>288</td>\n",
       "      <td>948.10</td>\n",
       "      <td>307.09</td>\n",
       "      <td>462.84</td>\n",
       "      <td>1718.03</td>\n",
       "      <td>Walmart                                       ...</td>\n",
       "      <td>www.walmart.com                               ...</td>\n",
       "      <td>40.238496</td>\n",
       "      <td>-75.103297</td>\n",
       "      <td>Tamara Tuma                                   ...</td>\n",
       "      <td>321500</td>\n",
       "      <td>Samuel Racine                                 ...</td>\n",
       "      <td>1</td>\n",
       "      <td>Northeast                                     ...</td>\n",
       "    </tr>\n",
       "    <tr>\n",
       "      <th>2</th>\n",
       "      <td>3</td>\n",
       "      <td>1001</td>\n",
       "      <td>2015-12-04 04:21:55</td>\n",
       "      <td>85</td>\n",
       "      <td>47</td>\n",
       "      <td>0</td>\n",
       "      <td>132</td>\n",
       "      <td>424.15</td>\n",
       "      <td>352.03</td>\n",
       "      <td>0.00</td>\n",
       "      <td>776.18</td>\n",
       "      <td>Walmart                                       ...</td>\n",
       "      <td>www.walmart.com                               ...</td>\n",
       "      <td>40.238496</td>\n",
       "      <td>-75.103297</td>\n",
       "      <td>Tamara Tuma                                   ...</td>\n",
       "      <td>321500</td>\n",
       "      <td>Samuel Racine                                 ...</td>\n",
       "      <td>1</td>\n",
       "      <td>Northeast                                     ...</td>\n",
       "    </tr>\n",
       "    <tr>\n",
       "      <th>3</th>\n",
       "      <td>4</td>\n",
       "      <td>1001</td>\n",
       "      <td>2016-01-02 01:18:24</td>\n",
       "      <td>144</td>\n",
       "      <td>32</td>\n",
       "      <td>0</td>\n",
       "      <td>176</td>\n",
       "      <td>718.56</td>\n",
       "      <td>239.68</td>\n",
       "      <td>0.00</td>\n",
       "      <td>958.24</td>\n",
       "      <td>Walmart                                       ...</td>\n",
       "      <td>www.walmart.com                               ...</td>\n",
       "      <td>40.238496</td>\n",
       "      <td>-75.103297</td>\n",
       "      <td>Tamara Tuma                                   ...</td>\n",
       "      <td>321500</td>\n",
       "      <td>Samuel Racine                                 ...</td>\n",
       "      <td>1</td>\n",
       "      <td>Northeast                                     ...</td>\n",
       "    </tr>\n",
       "    <tr>\n",
       "      <th>4</th>\n",
       "      <td>5</td>\n",
       "      <td>1001</td>\n",
       "      <td>2016-02-01 19:27:27</td>\n",
       "      <td>108</td>\n",
       "      <td>29</td>\n",
       "      <td>28</td>\n",
       "      <td>165</td>\n",
       "      <td>538.92</td>\n",
       "      <td>217.21</td>\n",
       "      <td>227.36</td>\n",
       "      <td>983.49</td>\n",
       "      <td>Walmart                                       ...</td>\n",
       "      <td>www.walmart.com                               ...</td>\n",
       "      <td>40.238496</td>\n",
       "      <td>-75.103297</td>\n",
       "      <td>Tamara Tuma                                   ...</td>\n",
       "      <td>321500</td>\n",
       "      <td>Samuel Racine                                 ...</td>\n",
       "      <td>1</td>\n",
       "      <td>Northeast                                     ...</td>\n",
       "    </tr>\n",
       "  </tbody>\n",
       "</table>\n",
       "</div>"
      ],
      "text/plain": [
       "   order_id  account_id     order_date_time  standard_qty  gloss_qty  \\\n",
       "0         1        1001 2015-10-06 17:31:14           123         22   \n",
       "1         2        1001 2015-11-05 03:34:33           190         41   \n",
       "2         3        1001 2015-12-04 04:21:55            85         47   \n",
       "3         4        1001 2016-01-02 01:18:24           144         32   \n",
       "4         5        1001 2016-02-01 19:27:27           108         29   \n",
       "\n",
       "   poster_qty  total  standard_amt_usd  gloss_amt_usd  poster_amt_usd  \\\n",
       "0          24    169            613.77         164.78          194.88   \n",
       "1          57    288            948.10         307.09          462.84   \n",
       "2           0    132            424.15         352.03            0.00   \n",
       "3           0    176            718.56         239.68            0.00   \n",
       "4          28    165            538.92         217.21          227.36   \n",
       "\n",
       "   total_amt_usd                                            account  \\\n",
       "0         973.43  Walmart                                       ...   \n",
       "1        1718.03  Walmart                                       ...   \n",
       "2         776.18  Walmart                                       ...   \n",
       "3         958.24  Walmart                                       ...   \n",
       "4         983.49  Walmart                                       ...   \n",
       "\n",
       "                                             website        lat       long  \\\n",
       "0  www.walmart.com                               ...  40.238496 -75.103297   \n",
       "1  www.walmart.com                               ...  40.238496 -75.103297   \n",
       "2  www.walmart.com                               ...  40.238496 -75.103297   \n",
       "3  www.walmart.com                               ...  40.238496 -75.103297   \n",
       "4  www.walmart.com                               ...  40.238496 -75.103297   \n",
       "\n",
       "                                         primary_poc  sales_person_id  \\\n",
       "0  Tamara Tuma                                   ...           321500   \n",
       "1  Tamara Tuma                                   ...           321500   \n",
       "2  Tamara Tuma                                   ...           321500   \n",
       "3  Tamara Tuma                                   ...           321500   \n",
       "4  Tamara Tuma                                   ...           321500   \n",
       "\n",
       "                                        sales_person  region_id  \\\n",
       "0  Samuel Racine                                 ...          1   \n",
       "1  Samuel Racine                                 ...          1   \n",
       "2  Samuel Racine                                 ...          1   \n",
       "3  Samuel Racine                                 ...          1   \n",
       "4  Samuel Racine                                 ...          1   \n",
       "\n",
       "                                              region  \n",
       "0  Northeast                                     ...  \n",
       "1  Northeast                                     ...  \n",
       "2  Northeast                                     ...  \n",
       "3  Northeast                                     ...  \n",
       "4  Northeast                                     ...  "
      ]
     },
     "execution_count": 12,
     "metadata": {},
     "output_type": "execute_result"
    }
   ],
   "source": [
    "# merge the 4 dataframes\n",
    "df = (orders.merge(accounts, 'inner', left_on = 'account_id', right_on = 'account_id').\n",
    "      merge(sr, 'inner', left_on = 'sales_person_id', right_on = 'sales_person_id').\n",
    "      merge(regions, 'inner', left_on = 'region_id', right_on = 'region_id')\n",
    "      )\n",
    "df.head()"
   ]
  },
  {
   "cell_type": "code",
   "execution_count": 13,
   "id": "b5060ada",
   "metadata": {},
   "outputs": [],
   "source": [
    "df['region'] = df['region'].str.lstrip().str.rstrip()\n",
    "df['account'] = df['account'].str.lstrip().str.rstrip()\n",
    "df['sales_person'] = df['sales_person'].str.lstrip().str.rstrip()"
   ]
  },
  {
   "cell_type": "code",
   "execution_count": 14,
   "id": "f58dfb76",
   "metadata": {},
   "outputs": [
    {
     "data": {
      "text/plain": [
       "(6911, 6911)"
      ]
     },
     "execution_count": 14,
     "metadata": {},
     "output_type": "execute_result"
    }
   ],
   "source": [
    "len(orders), len(df)"
   ]
  },
  {
   "cell_type": "code",
   "execution_count": 15,
   "id": "748df7a0",
   "metadata": {},
   "outputs": [],
   "source": [
    "# delete the coluns that cotains 'id' except for the 'orders_id'\n",
    "# cols = [col for col in df.columns if 'id' in col and col != 'order_id']\n",
    "# df.drop(cols, axis = 1, inplace = True)"
   ]
  },
  {
   "cell_type": "code",
   "execution_count": 16,
   "id": "62544d15",
   "metadata": {},
   "outputs": [],
   "source": [
    "del orders, accounts, sr, regions"
   ]
  },
  {
   "cell_type": "markdown",
   "id": "0ca123db",
   "metadata": {},
   "source": [
    "## Answering the HR Department Business Questions"
   ]
  },
  {
   "cell_type": "markdown",
   "id": "0cdb47b9",
   "metadata": {},
   "source": [
    "### HR Department Business Request"
   ]
  },
  {
   "cell_type": "markdown",
   "id": "149f9b19",
   "metadata": {},
   "source": [
    "### Q1\n",
    "Provide a table with the region for each sales representative along with their associated accounts. Your final table should include three columns: the region name, the sales rep name, and the account name. Sort the accounts alphabetically (A-Z) according to account name?"
   ]
  },
  {
   "cell_type": "markdown",
   "id": "f83074db",
   "metadata": {},
   "source": [
    "__A1 SQL__"
   ]
  },
  {
   "cell_type": "code",
   "execution_count": 17,
   "id": "bd5d37b1",
   "metadata": {
    "scrolled": true
   },
   "outputs": [
    {
     "data": {
      "text/html": [
       "<div>\n",
       "<style scoped>\n",
       "    .dataframe tbody tr th:only-of-type {\n",
       "        vertical-align: middle;\n",
       "    }\n",
       "\n",
       "    .dataframe tbody tr th {\n",
       "        vertical-align: top;\n",
       "    }\n",
       "\n",
       "    .dataframe thead th {\n",
       "        text-align: right;\n",
       "    }\n",
       "</style>\n",
       "<table border=\"1\" class=\"dataframe\">\n",
       "  <thead>\n",
       "    <tr style=\"text-align: right;\">\n",
       "      <th></th>\n",
       "      <th>region</th>\n",
       "      <th>sales_person</th>\n",
       "      <th>account</th>\n",
       "    </tr>\n",
       "  </thead>\n",
       "  <tbody>\n",
       "    <tr>\n",
       "      <th>0</th>\n",
       "      <td>Midwest</td>\n",
       "      <td>Carletta Kosinski</td>\n",
       "      <td>Danaher</td>\n",
       "    </tr>\n",
       "    <tr>\n",
       "      <th>1</th>\n",
       "      <td>Midwest</td>\n",
       "      <td>Carletta Kosinski</td>\n",
       "      <td>Dollar General</td>\n",
       "    </tr>\n",
       "    <tr>\n",
       "      <th>2</th>\n",
       "      <td>Midwest</td>\n",
       "      <td>Carletta Kosinski</td>\n",
       "      <td>International Paper</td>\n",
       "    </tr>\n",
       "  </tbody>\n",
       "</table>\n",
       "</div>"
      ],
      "text/plain": [
       "    region       sales_person              account\n",
       "0  Midwest  Carletta Kosinski              Danaher\n",
       "1  Midwest  Carletta Kosinski       Dollar General\n",
       "2  Midwest  Carletta Kosinski  International Paper"
      ]
     },
     "execution_count": 17,
     "metadata": {},
     "output_type": "execute_result"
    }
   ],
   "source": [
    "a1_script = \"\"\"SELECT TRIM(r.name) AS region,TRIM(sr.name) as sales_person, TRIM(a.name) AS Account\n",
    "               FROM region AS r\n",
    "               INNER JOIN sales_reps AS sr\n",
    "                   ON r.id = sr.region_id\n",
    "               INNER JOIN accounts AS a\n",
    "                   ON a.sales_rep_id = sr.id\"\"\"\n",
    "a1_sql = pd.read_sql_query(a1_script,con=conn)\n",
    "a1_sql = a1_sql.sort_values(['region','sales_person','account']).reset_index(drop=True)\n",
    "\n",
    "a1_sql.to_csv('../results/a1_sql.csv')\n",
    "a1_sql.head(3)"
   ]
  },
  {
   "cell_type": "markdown",
   "id": "81761d71",
   "metadata": {},
   "source": [
    "__A1 Pandas__"
   ]
  },
  {
   "cell_type": "code",
   "execution_count": 18,
   "id": "4f00e18c",
   "metadata": {
    "scrolled": false
   },
   "outputs": [
    {
     "data": {
      "text/html": [
       "<div>\n",
       "<style scoped>\n",
       "    .dataframe tbody tr th:only-of-type {\n",
       "        vertical-align: middle;\n",
       "    }\n",
       "\n",
       "    .dataframe tbody tr th {\n",
       "        vertical-align: top;\n",
       "    }\n",
       "\n",
       "    .dataframe thead th {\n",
       "        text-align: right;\n",
       "    }\n",
       "</style>\n",
       "<table border=\"1\" class=\"dataframe\">\n",
       "  <thead>\n",
       "    <tr style=\"text-align: right;\">\n",
       "      <th></th>\n",
       "      <th>region</th>\n",
       "      <th>sales_person</th>\n",
       "      <th>account</th>\n",
       "    </tr>\n",
       "  </thead>\n",
       "  <tbody>\n",
       "    <tr>\n",
       "      <th>0</th>\n",
       "      <td>Midwest</td>\n",
       "      <td>Carletta Kosinski</td>\n",
       "      <td>Danaher</td>\n",
       "    </tr>\n",
       "    <tr>\n",
       "      <th>1</th>\n",
       "      <td>Midwest</td>\n",
       "      <td>Carletta Kosinski</td>\n",
       "      <td>Dollar General</td>\n",
       "    </tr>\n",
       "    <tr>\n",
       "      <th>2</th>\n",
       "      <td>Midwest</td>\n",
       "      <td>Carletta Kosinski</td>\n",
       "      <td>International Paper</td>\n",
       "    </tr>\n",
       "  </tbody>\n",
       "</table>\n",
       "</div>"
      ],
      "text/plain": [
       "    region       sales_person              account\n",
       "0  Midwest  Carletta Kosinski              Danaher\n",
       "1  Midwest  Carletta Kosinski       Dollar General\n",
       "2  Midwest  Carletta Kosinski  International Paper"
      ]
     },
     "execution_count": 18,
     "metadata": {},
     "output_type": "execute_result"
    }
   ],
   "source": [
    "a1_pandas = df[['region','sales_person','account']].drop_duplicates()\n",
    "a1_pandas = a1_pandas.sort_values(['region','sales_person','account']).reset_index(drop=True)\n",
    "\n",
    "a1_pandas.to_csv('../results/a1_pandas.csv')\n",
    "a1_pandas.head(3)"
   ]
  },
  {
   "cell_type": "markdown",
   "id": "33428454",
   "metadata": {},
   "source": [
    "__Comparison__"
   ]
  },
  {
   "cell_type": "code",
   "execution_count": 19,
   "id": "312222d9",
   "metadata": {},
   "outputs": [
    {
     "data": {
      "text/plain": [
       "region          349\n",
       "sales_person    349\n",
       "account         349\n",
       "dtype: int64"
      ]
     },
     "execution_count": 19,
     "metadata": {},
     "output_type": "execute_result"
    }
   ],
   "source": [
    "(a1_sql==a1_pandas).sum()"
   ]
  },
  {
   "cell_type": "markdown",
   "id": "3bd9d0a4",
   "metadata": {},
   "source": [
    "### Q2\n",
    "Provide a table with the region for each sales representative  along with their associated  accounts. This time only for accounts where the sales rep has a first name starting with S and  in the Midwest region. Your final table should include three columns: the region name, the sales  representative name, and the account name. Sort the accounts alphabetically (A-Z) according to account name?"
   ]
  },
  {
   "cell_type": "markdown",
   "id": "be6768ac",
   "metadata": {},
   "source": [
    "__A2 SQL__"
   ]
  },
  {
   "cell_type": "code",
   "execution_count": 20,
   "id": "8c5ef778",
   "metadata": {},
   "outputs": [
    {
     "data": {
      "text/html": [
       "<div>\n",
       "<style scoped>\n",
       "    .dataframe tbody tr th:only-of-type {\n",
       "        vertical-align: middle;\n",
       "    }\n",
       "\n",
       "    .dataframe tbody tr th {\n",
       "        vertical-align: top;\n",
       "    }\n",
       "\n",
       "    .dataframe thead th {\n",
       "        text-align: right;\n",
       "    }\n",
       "</style>\n",
       "<table border=\"1\" class=\"dataframe\">\n",
       "  <thead>\n",
       "    <tr style=\"text-align: right;\">\n",
       "      <th></th>\n",
       "      <th>region</th>\n",
       "      <th>sales_person</th>\n",
       "      <th>account</th>\n",
       "    </tr>\n",
       "  </thead>\n",
       "  <tbody>\n",
       "    <tr>\n",
       "      <th>0</th>\n",
       "      <td>Midwest</td>\n",
       "      <td>Sherlene Wetherington</td>\n",
       "      <td>Community Health Systems</td>\n",
       "    </tr>\n",
       "    <tr>\n",
       "      <th>1</th>\n",
       "      <td>Midwest</td>\n",
       "      <td>Sherlene Wetherington</td>\n",
       "      <td>Progressive</td>\n",
       "    </tr>\n",
       "    <tr>\n",
       "      <th>2</th>\n",
       "      <td>Midwest</td>\n",
       "      <td>Sherlene Wetherington</td>\n",
       "      <td>Rite Aid</td>\n",
       "    </tr>\n",
       "    <tr>\n",
       "      <th>3</th>\n",
       "      <td>Midwest</td>\n",
       "      <td>Sherlene Wetherington</td>\n",
       "      <td>Time Warner Cable</td>\n",
       "    </tr>\n",
       "    <tr>\n",
       "      <th>4</th>\n",
       "      <td>Midwest</td>\n",
       "      <td>Sherlene Wetherington</td>\n",
       "      <td>U.S. Bancorp</td>\n",
       "    </tr>\n",
       "  </tbody>\n",
       "</table>\n",
       "</div>"
      ],
      "text/plain": [
       "    region           sales_person                   account\n",
       "0  Midwest  Sherlene Wetherington  Community Health Systems\n",
       "1  Midwest  Sherlene Wetherington               Progressive\n",
       "2  Midwest  Sherlene Wetherington                  Rite Aid\n",
       "3  Midwest  Sherlene Wetherington         Time Warner Cable\n",
       "4  Midwest  Sherlene Wetherington              U.S. Bancorp"
      ]
     },
     "execution_count": 20,
     "metadata": {},
     "output_type": "execute_result"
    }
   ],
   "source": [
    "a2_script = \"\"\"SELECT TRIM(r.name) AS region, TRIM(sr.name) AS sales_person, TRIM(a.name) AS account\n",
    "               FROM region AS r\n",
    "               INNER JOIN sales_reps AS sr\n",
    "                  ON r.id = sr.region_id\n",
    "               INNER JOIN accounts AS a\n",
    "                  ON sr.id = a.sales_rep_id\n",
    "               WHERE r.name = 'Midwest' AND sr.name LIKE 'S%'\n",
    "               ORDER BY account, sales_person\"\"\"\n",
    "a2_sql = pd.read_sql_query(a2_script,con=conn)\n",
    "a2_sql = a2_sql.drop_duplicates().\\\n",
    "            sort_values(['account','region','sales_person']).\\\n",
    "            reset_index(drop=True)\n",
    "a2_sql.head()"
   ]
  },
  {
   "cell_type": "markdown",
   "id": "b7c068c3",
   "metadata": {},
   "source": [
    "__A2 Pandas__"
   ]
  },
  {
   "cell_type": "code",
   "execution_count": 21,
   "id": "d2edd8df",
   "metadata": {
    "scrolled": true
   },
   "outputs": [
    {
     "data": {
      "text/html": [
       "<div>\n",
       "<style scoped>\n",
       "    .dataframe tbody tr th:only-of-type {\n",
       "        vertical-align: middle;\n",
       "    }\n",
       "\n",
       "    .dataframe tbody tr th {\n",
       "        vertical-align: top;\n",
       "    }\n",
       "\n",
       "    .dataframe thead th {\n",
       "        text-align: right;\n",
       "    }\n",
       "</style>\n",
       "<table border=\"1\" class=\"dataframe\">\n",
       "  <thead>\n",
       "    <tr style=\"text-align: right;\">\n",
       "      <th></th>\n",
       "      <th>region</th>\n",
       "      <th>sales_person</th>\n",
       "      <th>account</th>\n",
       "    </tr>\n",
       "  </thead>\n",
       "  <tbody>\n",
       "    <tr>\n",
       "      <th>0</th>\n",
       "      <td>Midwest</td>\n",
       "      <td>Sherlene Wetherington</td>\n",
       "      <td>Community Health Systems</td>\n",
       "    </tr>\n",
       "    <tr>\n",
       "      <th>1</th>\n",
       "      <td>Midwest</td>\n",
       "      <td>Sherlene Wetherington</td>\n",
       "      <td>Progressive</td>\n",
       "    </tr>\n",
       "    <tr>\n",
       "      <th>2</th>\n",
       "      <td>Midwest</td>\n",
       "      <td>Sherlene Wetherington</td>\n",
       "      <td>Rite Aid</td>\n",
       "    </tr>\n",
       "    <tr>\n",
       "      <th>3</th>\n",
       "      <td>Midwest</td>\n",
       "      <td>Sherlene Wetherington</td>\n",
       "      <td>Time Warner Cable</td>\n",
       "    </tr>\n",
       "    <tr>\n",
       "      <th>4</th>\n",
       "      <td>Midwest</td>\n",
       "      <td>Sherlene Wetherington</td>\n",
       "      <td>U.S. Bancorp</td>\n",
       "    </tr>\n",
       "  </tbody>\n",
       "</table>\n",
       "</div>"
      ],
      "text/plain": [
       "    region           sales_person                   account\n",
       "0  Midwest  Sherlene Wetherington  Community Health Systems\n",
       "1  Midwest  Sherlene Wetherington               Progressive\n",
       "2  Midwest  Sherlene Wetherington                  Rite Aid\n",
       "3  Midwest  Sherlene Wetherington         Time Warner Cable\n",
       "4  Midwest  Sherlene Wetherington              U.S. Bancorp"
      ]
     },
     "execution_count": 21,
     "metadata": {},
     "output_type": "execute_result"
    }
   ],
   "source": [
    "a2_pandas = df[(df['region']=='Midwest') & (df['sales_person'].\\\n",
    "                str.startswith('S'))]\\\n",
    "                [['region','sales_person','account']]\n",
    "a2_pandas = a2_pandas.drop_duplicates().\\\n",
    "                sort_values(['account','region','sales_person']).\\\n",
    "                    reset_index(drop=True)\n",
    "a2_pandas.head()"
   ]
  },
  {
   "cell_type": "markdown",
   "id": "2f4e180f",
   "metadata": {},
   "source": [
    "__Comparison__"
   ]
  },
  {
   "cell_type": "code",
   "execution_count": 22,
   "id": "ee88a049",
   "metadata": {},
   "outputs": [
    {
     "data": {
      "text/plain": [
       "region          5\n",
       "sales_person    5\n",
       "account         5\n",
       "dtype: int64"
      ]
     },
     "execution_count": 22,
     "metadata": {},
     "output_type": "execute_result"
    }
   ],
   "source": [
    "(a2_sql == a2_pandas).sum()"
   ]
  },
  {
   "cell_type": "markdown",
   "id": "9cc1cfa6",
   "metadata": {},
   "source": [
    "### Q3\n",
    "Find the number of sales reps in each region. Your final table should have two columns - the \n",
    "region and the number of sales representative. Order from fewest reps to most reps?"
   ]
  },
  {
   "cell_type": "markdown",
   "id": "2cb0b4f0",
   "metadata": {},
   "source": [
    "__A3 SQL__"
   ]
  },
  {
   "cell_type": "code",
   "execution_count": 23,
   "id": "ec3ea047",
   "metadata": {},
   "outputs": [
    {
     "data": {
      "text/html": [
       "<div>\n",
       "<style scoped>\n",
       "    .dataframe tbody tr th:only-of-type {\n",
       "        vertical-align: middle;\n",
       "    }\n",
       "\n",
       "    .dataframe tbody tr th {\n",
       "        vertical-align: top;\n",
       "    }\n",
       "\n",
       "    .dataframe thead th {\n",
       "        text-align: right;\n",
       "    }\n",
       "</style>\n",
       "<table border=\"1\" class=\"dataframe\">\n",
       "  <thead>\n",
       "    <tr style=\"text-align: right;\">\n",
       "      <th></th>\n",
       "      <th>region</th>\n",
       "      <th>sales_person_count</th>\n",
       "    </tr>\n",
       "  </thead>\n",
       "  <tbody>\n",
       "    <tr>\n",
       "      <th>0</th>\n",
       "      <td>Midwest</td>\n",
       "      <td>9</td>\n",
       "    </tr>\n",
       "    <tr>\n",
       "      <th>1</th>\n",
       "      <td>Southeast</td>\n",
       "      <td>10</td>\n",
       "    </tr>\n",
       "    <tr>\n",
       "      <th>2</th>\n",
       "      <td>West</td>\n",
       "      <td>10</td>\n",
       "    </tr>\n",
       "    <tr>\n",
       "      <th>3</th>\n",
       "      <td>Northeast</td>\n",
       "      <td>21</td>\n",
       "    </tr>\n",
       "  </tbody>\n",
       "</table>\n",
       "</div>"
      ],
      "text/plain": [
       "      region  sales_person_count\n",
       "0    Midwest                   9\n",
       "1  Southeast                  10\n",
       "2       West                  10\n",
       "3  Northeast                  21"
      ]
     },
     "execution_count": 23,
     "metadata": {},
     "output_type": "execute_result"
    }
   ],
   "source": [
    "a3_script = \"\"\"SELECT TRIM(r.name) AS region, COUNT(*) AS sales_person_count\n",
    "               FROM region AS r\n",
    "               INNER JOIN sales_reps AS sr\n",
    "                   ON r.id = sr.region_id\n",
    "               GROUP BY TRIM(r.name)\n",
    "               ORDER BY sales_person_count \"\"\"\n",
    "a3_sql = pd.read_sql_query(a3_script,con=conn)\n",
    "\n",
    "a3_sql.to_csv('../results/a3_sql.csv')\n",
    "a3_sql"
   ]
  },
  {
   "cell_type": "markdown",
   "id": "20563c99",
   "metadata": {},
   "source": [
    "__A3 Pandas__"
   ]
  },
  {
   "cell_type": "code",
   "execution_count": 24,
   "id": "15ebbf5a",
   "metadata": {},
   "outputs": [
    {
     "data": {
      "text/html": [
       "<div>\n",
       "<style scoped>\n",
       "    .dataframe tbody tr th:only-of-type {\n",
       "        vertical-align: middle;\n",
       "    }\n",
       "\n",
       "    .dataframe tbody tr th {\n",
       "        vertical-align: top;\n",
       "    }\n",
       "\n",
       "    .dataframe thead th {\n",
       "        text-align: right;\n",
       "    }\n",
       "</style>\n",
       "<table border=\"1\" class=\"dataframe\">\n",
       "  <thead>\n",
       "    <tr style=\"text-align: right;\">\n",
       "      <th></th>\n",
       "      <th>region</th>\n",
       "      <th>sales_person_count</th>\n",
       "    </tr>\n",
       "  </thead>\n",
       "  <tbody>\n",
       "    <tr>\n",
       "      <th>0</th>\n",
       "      <td>Midwest</td>\n",
       "      <td>9</td>\n",
       "    </tr>\n",
       "    <tr>\n",
       "      <th>1</th>\n",
       "      <td>Southeast</td>\n",
       "      <td>10</td>\n",
       "    </tr>\n",
       "    <tr>\n",
       "      <th>2</th>\n",
       "      <td>West</td>\n",
       "      <td>10</td>\n",
       "    </tr>\n",
       "    <tr>\n",
       "      <th>3</th>\n",
       "      <td>Northeast</td>\n",
       "      <td>21</td>\n",
       "    </tr>\n",
       "  </tbody>\n",
       "</table>\n",
       "</div>"
      ],
      "text/plain": [
       "      region  sales_person_count\n",
       "0    Midwest                   9\n",
       "1  Southeast                  10\n",
       "2       West                  10\n",
       "3  Northeast                  21"
      ]
     },
     "execution_count": 24,
     "metadata": {},
     "output_type": "execute_result"
    }
   ],
   "source": [
    "a3_pandas = df[['region','sales_person']].\\\n",
    "                drop_duplicates().\\\n",
    "                groupby('region').\\\n",
    "                agg({'sales_person':'count'}).\\\n",
    "                rename(columns={'sales_person':'sales_person_count'}).\\\n",
    "                sort_values('sales_person_count').\\\n",
    "                reset_index()\n",
    "\n",
    "a3_pandas.to_csv('../results/a3_pandas.csv')\n",
    "a3_pandas"
   ]
  },
  {
   "cell_type": "markdown",
   "id": "92c428bf",
   "metadata": {},
   "source": [
    "__Comparison__"
   ]
  },
  {
   "cell_type": "code",
   "execution_count": 25,
   "id": "30169480",
   "metadata": {},
   "outputs": [
    {
     "data": {
      "text/plain": [
       "region                4\n",
       "sales_person_count    4\n",
       "dtype: int64"
      ]
     },
     "execution_count": 25,
     "metadata": {},
     "output_type": "execute_result"
    }
   ],
   "source": [
    "(a3_sql == a3_pandas).sum()"
   ]
  },
  {
   "cell_type": "markdown",
   "id": "9ee79e82",
   "metadata": {},
   "source": [
    "### Q4\n",
    "We would like to identify top performing sales reps, which are sales reps associated with more than 200 orders or more than 750000 in total sales. The middle group has any rep with more than 150 orders or 500000 in sales. Create a table with the sales rep name, the total number of orders, total sales across all orders, and a column with top, middle, or low depending on this criteria. Place the top sales people based on dollar amount of sales first in your final table."
   ]
  },
  {
   "cell_type": "markdown",
   "id": "3a6a93e1",
   "metadata": {},
   "source": [
    "__A4 SQL__"
   ]
  },
  {
   "cell_type": "code",
   "execution_count": 26,
   "id": "7f019970",
   "metadata": {
    "scrolled": true
   },
   "outputs": [
    {
     "data": {
      "text/html": [
       "<div>\n",
       "<style scoped>\n",
       "    .dataframe tbody tr th:only-of-type {\n",
       "        vertical-align: middle;\n",
       "    }\n",
       "\n",
       "    .dataframe tbody tr th {\n",
       "        vertical-align: top;\n",
       "    }\n",
       "\n",
       "    .dataframe thead th {\n",
       "        text-align: right;\n",
       "    }\n",
       "</style>\n",
       "<table border=\"1\" class=\"dataframe\">\n",
       "  <thead>\n",
       "    <tr style=\"text-align: right;\">\n",
       "      <th></th>\n",
       "      <th>sales_person</th>\n",
       "      <th>total_orders</th>\n",
       "      <th>total_revenue</th>\n",
       "      <th>sales_person_level</th>\n",
       "    </tr>\n",
       "  </thead>\n",
       "  <tbody>\n",
       "    <tr>\n",
       "      <th>0</th>\n",
       "      <td>Earlie Schleusner</td>\n",
       "      <td>335</td>\n",
       "      <td>1098137.72</td>\n",
       "      <td>top</td>\n",
       "    </tr>\n",
       "    <tr>\n",
       "      <th>1</th>\n",
       "      <td>Tia Amato</td>\n",
       "      <td>267</td>\n",
       "      <td>1010690.60</td>\n",
       "      <td>top</td>\n",
       "    </tr>\n",
       "    <tr>\n",
       "      <th>2</th>\n",
       "      <td>Vernita Plump</td>\n",
       "      <td>299</td>\n",
       "      <td>934212.93</td>\n",
       "      <td>top</td>\n",
       "    </tr>\n",
       "    <tr>\n",
       "      <th>3</th>\n",
       "      <td>Georgianna Chisholm</td>\n",
       "      <td>256</td>\n",
       "      <td>886244.12</td>\n",
       "      <td>top</td>\n",
       "    </tr>\n",
       "    <tr>\n",
       "      <th>4</th>\n",
       "      <td>Arica Stoltzfus</td>\n",
       "      <td>186</td>\n",
       "      <td>810353.34</td>\n",
       "      <td>top</td>\n",
       "    </tr>\n",
       "  </tbody>\n",
       "</table>\n",
       "</div>"
      ],
      "text/plain": [
       "          sales_person  total_orders  total_revenue sales_person_level\n",
       "0    Earlie Schleusner           335     1098137.72                top\n",
       "1            Tia Amato           267     1010690.60                top\n",
       "2        Vernita Plump           299      934212.93                top\n",
       "3  Georgianna Chisholm           256      886244.12                top\n",
       "4      Arica Stoltzfus           186      810353.34                top"
      ]
     },
     "execution_count": 26,
     "metadata": {},
     "output_type": "execute_result"
    }
   ],
   "source": [
    " a4_script = \"\"\"SELECT \n",
    "                    TRIM(sr.name) AS sales_person\n",
    "                    ,COUNT(*) AS total_orders\n",
    "                    ,SUM(o.total_amt_usd) AS total_revenue\n",
    "                    ,CASE\n",
    "                        WHEN COUNT(*) > 200 OR SUM(O.total_amt_usd) > 750000\n",
    "                            THEN 'top'\n",
    "                        WHEN COUNT(*) > 150 OR SUM(O.total_amt_usd) > 500000\n",
    "                            THEN 'middle'\n",
    "                        ELSE\n",
    "                        'not'\n",
    "                    END AS sales_person_level\t\t\n",
    "               FROM orders AS o\n",
    "               INNER JOIN accounts a\n",
    "                   ON o.account_id = a.id\n",
    "               INNER JOIN sales_reps AS sr\n",
    "                   ON sr.id = a.sales_rep_id\n",
    "               GROUP BY sr.name\n",
    "               ORDER BY total_revenue DESC \"\"\"\n",
    "a4_sql = pd.read_sql_query(a4_script,con=conn)\n",
    "\n",
    "a4_sql.head()"
   ]
  },
  {
   "cell_type": "code",
   "execution_count": null,
   "id": "3951b349",
   "metadata": {},
   "outputs": [],
   "source": []
  },
  {
   "cell_type": "markdown",
   "id": "4a1483b4",
   "metadata": {},
   "source": [
    "__A4 Pandas__"
   ]
  },
  {
   "cell_type": "code",
   "execution_count": 27,
   "id": "fdac73cb",
   "metadata": {
    "scrolled": true
   },
   "outputs": [
    {
     "data": {
      "text/html": [
       "<div>\n",
       "<style scoped>\n",
       "    .dataframe tbody tr th:only-of-type {\n",
       "        vertical-align: middle;\n",
       "    }\n",
       "\n",
       "    .dataframe tbody tr th {\n",
       "        vertical-align: top;\n",
       "    }\n",
       "\n",
       "    .dataframe thead th {\n",
       "        text-align: right;\n",
       "    }\n",
       "</style>\n",
       "<table border=\"1\" class=\"dataframe\">\n",
       "  <thead>\n",
       "    <tr style=\"text-align: right;\">\n",
       "      <th></th>\n",
       "      <th>sales_person</th>\n",
       "      <th>total_orders</th>\n",
       "      <th>total_revenue</th>\n",
       "      <th>sales_person_level</th>\n",
       "    </tr>\n",
       "  </thead>\n",
       "  <tbody>\n",
       "    <tr>\n",
       "      <th>0</th>\n",
       "      <td>Earlie Schleusner</td>\n",
       "      <td>335</td>\n",
       "      <td>1098137.72</td>\n",
       "      <td>top</td>\n",
       "    </tr>\n",
       "    <tr>\n",
       "      <th>1</th>\n",
       "      <td>Tia Amato</td>\n",
       "      <td>267</td>\n",
       "      <td>1010690.60</td>\n",
       "      <td>top</td>\n",
       "    </tr>\n",
       "    <tr>\n",
       "      <th>2</th>\n",
       "      <td>Vernita Plump</td>\n",
       "      <td>299</td>\n",
       "      <td>934212.93</td>\n",
       "      <td>top</td>\n",
       "    </tr>\n",
       "    <tr>\n",
       "      <th>3</th>\n",
       "      <td>Georgianna Chisholm</td>\n",
       "      <td>256</td>\n",
       "      <td>886244.12</td>\n",
       "      <td>top</td>\n",
       "    </tr>\n",
       "    <tr>\n",
       "      <th>4</th>\n",
       "      <td>Arica Stoltzfus</td>\n",
       "      <td>186</td>\n",
       "      <td>810353.34</td>\n",
       "      <td>top</td>\n",
       "    </tr>\n",
       "  </tbody>\n",
       "</table>\n",
       "</div>"
      ],
      "text/plain": [
       "          sales_person  total_orders  total_revenue sales_person_level\n",
       "0    Earlie Schleusner           335     1098137.72                top\n",
       "1            Tia Amato           267     1010690.60                top\n",
       "2        Vernita Plump           299      934212.93                top\n",
       "3  Georgianna Chisholm           256      886244.12                top\n",
       "4      Arica Stoltzfus           186      810353.34                top"
      ]
     },
     "execution_count": 27,
     "metadata": {},
     "output_type": "execute_result"
    }
   ],
   "source": [
    "a4_pandas = df[['order_id','sales_person','total','total_amt_usd']].\\\n",
    "            groupby('sales_person').\\\n",
    "            agg({'order_id':'count','total_amt_usd':'sum'}).\\\n",
    "            rename(columns={'order_id':'total_orders','total_amt_usd':'total_revenue'}).\\\n",
    "            sort_values('total_revenue', ascending=False).\\\n",
    "            reset_index()\n",
    "\n",
    "condition1 = (a4_pandas['total_orders']>150) | (a4_pandas['total_revenue']>500000)\n",
    "condition2 = (a4_pandas['total_orders']>200) | (a4_pandas['total_revenue']>750000)\n",
    "\n",
    "a4_pandas.loc[:,'sales_person_level'] = 'not'\n",
    "a4_pandas.loc[condition1 ,'sales_person_level'] = 'middle'\n",
    "a4_pandas.loc[condition2,'sales_person_level'] = 'top'\n",
    "\n",
    "\n",
    "# def sales_person_level(orders,revenue):\n",
    "#     if orders > 200 or revenue > 750000:\n",
    "#         return 'top'\n",
    "#     elif orders > 150 or revenue > 500000:\n",
    "#         return 'middle'\n",
    "#     else:\n",
    "#         return 'not'\n",
    "\n",
    "# a4_pandas['sales_person_level'] = a4_pandas[['total_orders','total_revenue']].\\\n",
    "#                 apply(lambda x: sales_person_level(x['total_orders'],x['total_revenue']), axis=1)\n",
    "\n",
    "a4_pandas.head()\n"
   ]
  },
  {
   "cell_type": "markdown",
   "id": "4ca63a2d",
   "metadata": {},
   "source": [
    "__Comparison__"
   ]
  },
  {
   "cell_type": "code",
   "execution_count": 28,
   "id": "69efa889",
   "metadata": {},
   "outputs": [
    {
     "data": {
      "text/plain": [
       "sales_person          50\n",
       "total_orders          50\n",
       "total_revenue         50\n",
       "sales_person_level    50\n",
       "dtype: int64"
      ]
     },
     "execution_count": 28,
     "metadata": {},
     "output_type": "execute_result"
    }
   ],
   "source": [
    "(a4_sql==a4_pandas).sum()"
   ]
  },
  {
   "cell_type": "markdown",
   "id": "1286548e",
   "metadata": {},
   "source": [
    "### Q5\n",
    "Provide the name of the sales represntative in each region with the largest amount of total_amt_usd sales?"
   ]
  },
  {
   "cell_type": "markdown",
   "id": "0533fb14",
   "metadata": {},
   "source": [
    "__A5 SQL__"
   ]
  },
  {
   "cell_type": "code",
   "execution_count": 29,
   "id": "a5efc6dc",
   "metadata": {},
   "outputs": [
    {
     "data": {
      "text/html": [
       "<div>\n",
       "<style scoped>\n",
       "    .dataframe tbody tr th:only-of-type {\n",
       "        vertical-align: middle;\n",
       "    }\n",
       "\n",
       "    .dataframe tbody tr th {\n",
       "        vertical-align: top;\n",
       "    }\n",
       "\n",
       "    .dataframe thead th {\n",
       "        text-align: right;\n",
       "    }\n",
       "</style>\n",
       "<table border=\"1\" class=\"dataframe\">\n",
       "  <thead>\n",
       "    <tr style=\"text-align: right;\">\n",
       "      <th></th>\n",
       "      <th>region</th>\n",
       "      <th>sales_person</th>\n",
       "      <th>total_revenue</th>\n",
       "    </tr>\n",
       "  </thead>\n",
       "  <tbody>\n",
       "    <tr>\n",
       "      <th>0</th>\n",
       "      <td>Midwest</td>\n",
       "      <td>Charles Bidwell</td>\n",
       "      <td>675637.19</td>\n",
       "    </tr>\n",
       "    <tr>\n",
       "      <th>1</th>\n",
       "      <td>Northeast</td>\n",
       "      <td>Tia Amato</td>\n",
       "      <td>1010690.60</td>\n",
       "    </tr>\n",
       "    <tr>\n",
       "      <th>2</th>\n",
       "      <td>Southeast</td>\n",
       "      <td>Earlie Schleusner</td>\n",
       "      <td>1098137.72</td>\n",
       "    </tr>\n",
       "    <tr>\n",
       "      <th>3</th>\n",
       "      <td>West</td>\n",
       "      <td>Georgianna Chisholm</td>\n",
       "      <td>886244.12</td>\n",
       "    </tr>\n",
       "  </tbody>\n",
       "</table>\n",
       "</div>"
      ],
      "text/plain": [
       "      region         sales_person  total_revenue\n",
       "0    Midwest      Charles Bidwell      675637.19\n",
       "1  Northeast            Tia Amato     1010690.60\n",
       "2  Southeast    Earlie Schleusner     1098137.72\n",
       "3       West  Georgianna Chisholm      886244.12"
      ]
     },
     "execution_count": 29,
     "metadata": {},
     "output_type": "execute_result"
    }
   ],
   "source": [
    " a5_script = \"\"\"SELECT\n",
    "                    TRIM(T3.sales_person) as sales_person\n",
    "                    ,T3.region\n",
    "                    ,T3.total_revenue\n",
    "                FROM\n",
    "                    (SELECT \n",
    "                        region\n",
    "                        ,MAX(total_revenue) AS maximum_total_revenue\n",
    "                     FROM\t\n",
    "                        (SELECT  \n",
    "                            sr.name AS sales_person\n",
    "                            ,TRIM(r.name) region\n",
    "                            ,SUM(o.total_amt_usd) AS total_revenue\n",
    "                         FROM sales_reps AS sr\n",
    "                         INNER JOIN accounts AS a\n",
    "                             ON sr.id = a.sales_rep_id\n",
    "                         INNER JOIN orders AS o\n",
    "                             ON a.id = o.account_id\n",
    "                         INNER JOIN region AS r\n",
    "                             ON r.id = sr.region_id\n",
    "                         GROUP BY sr.name,r.name) \n",
    "                         AS T1\n",
    "                    GROUP BY Region) \n",
    "                    AS T2\n",
    "\n",
    "               INNER JOIN\n",
    "                    (SELECT\n",
    "                        sr.name AS sales_person\n",
    "                        ,TRIM(r.name) region\n",
    "                        ,SUM(o.total_amt_usd) AS total_revenue\n",
    "                     FROM sales_reps AS sr\n",
    "                     INNER JOIN accounts AS a\n",
    "                         ON sr.id = a.sales_rep_id\n",
    "                     INNER JOIN orders AS o\n",
    "                         ON o.account_id = a.id\n",
    "                     INNER JOIN region AS r\n",
    "                         ON r.id = sr.region_id\n",
    "                     GROUP BY sr.name,r.name) \n",
    "                     AS T3\n",
    "               ON T3.region = T2.Region AND T3.total_revenue = T2.maximum_total_revenue \n",
    "               ORDER BY region ASC\"\"\"\n",
    "    \n",
    "a5_sql = pd.read_sql_query(a5_script,con=conn)[['region','sales_person','total_revenue']]\n",
    "\n",
    "a5_sql"
   ]
  },
  {
   "cell_type": "markdown",
   "id": "1fcffa69",
   "metadata": {},
   "source": [
    "__A5 Pandas__"
   ]
  },
  {
   "cell_type": "code",
   "execution_count": 30,
   "id": "5321f627",
   "metadata": {},
   "outputs": [
    {
     "data": {
      "text/html": [
       "<div>\n",
       "<style scoped>\n",
       "    .dataframe tbody tr th:only-of-type {\n",
       "        vertical-align: middle;\n",
       "    }\n",
       "\n",
       "    .dataframe tbody tr th {\n",
       "        vertical-align: top;\n",
       "    }\n",
       "\n",
       "    .dataframe thead th {\n",
       "        text-align: right;\n",
       "    }\n",
       "</style>\n",
       "<table border=\"1\" class=\"dataframe\">\n",
       "  <thead>\n",
       "    <tr style=\"text-align: right;\">\n",
       "      <th></th>\n",
       "      <th>region</th>\n",
       "      <th>sales_person</th>\n",
       "      <th>total_revenue</th>\n",
       "    </tr>\n",
       "  </thead>\n",
       "  <tbody>\n",
       "    <tr>\n",
       "      <th>0</th>\n",
       "      <td>Midwest</td>\n",
       "      <td>Charles Bidwell</td>\n",
       "      <td>675637.19</td>\n",
       "    </tr>\n",
       "    <tr>\n",
       "      <th>1</th>\n",
       "      <td>Northeast</td>\n",
       "      <td>Tia Amato</td>\n",
       "      <td>1010690.60</td>\n",
       "    </tr>\n",
       "    <tr>\n",
       "      <th>2</th>\n",
       "      <td>Southeast</td>\n",
       "      <td>Earlie Schleusner</td>\n",
       "      <td>1098137.72</td>\n",
       "    </tr>\n",
       "    <tr>\n",
       "      <th>3</th>\n",
       "      <td>West</td>\n",
       "      <td>Georgianna Chisholm</td>\n",
       "      <td>886244.12</td>\n",
       "    </tr>\n",
       "  </tbody>\n",
       "</table>\n",
       "</div>"
      ],
      "text/plain": [
       "      region         sales_person  total_revenue\n",
       "0    Midwest      Charles Bidwell      675637.19\n",
       "1  Northeast            Tia Amato     1010690.60\n",
       "2  Southeast    Earlie Schleusner     1098137.72\n",
       "3       West  Georgianna Chisholm      886244.12"
      ]
     },
     "execution_count": 30,
     "metadata": {},
     "output_type": "execute_result"
    }
   ],
   "source": [
    "q5_list = []\n",
    "regions = df['region'].value_counts().index.values.tolist()\n",
    " \n",
    "agg_df = df.groupby(['region','sales_person']).\\\n",
    "            agg({'total_amt_usd':'sum'}).\\\n",
    "            reset_index().\\\n",
    "            rename(columns={'total_amt_usd':'total_revenue'}).\\\n",
    "            sort_values(['region','total_revenue'], ascending=[True, False])\n",
    "\n",
    "for region in regions:\n",
    "    new_df = agg_df[agg_df['region']==region]\n",
    "    new_df = new_df.sort_values('total_revenue', ascending=False).head(1)\n",
    "    q5_list.append(new_df)\n",
    "    \n",
    "a5_pandas = pd.concat(q5_list, axis=0).sort_values('region', ascending=True).reset_index(drop=True)\n",
    "a5_pandas"
   ]
  },
  {
   "cell_type": "markdown",
   "id": "744cb209",
   "metadata": {},
   "source": [
    "__Comparison__"
   ]
  },
  {
   "cell_type": "code",
   "execution_count": 31,
   "id": "f7cf08b7",
   "metadata": {
    "scrolled": true
   },
   "outputs": [
    {
     "data": {
      "text/plain": [
       "region           4\n",
       "sales_person     4\n",
       "total_revenue    4\n",
       "dtype: int64"
      ]
     },
     "execution_count": 31,
     "metadata": {},
     "output_type": "execute_result"
    }
   ],
   "source": [
    "(a5_sql == a5_pandas).sum()"
   ]
  },
  {
   "cell_type": "markdown",
   "id": "744968e8",
   "metadata": {},
   "source": [
    "### Finance Department Business Request"
   ]
  },
  {
   "cell_type": "markdown",
   "id": "a0e69fa8",
   "metadata": {},
   "source": [
    "### Q6\n",
    "What are the average quantity & average revenue for each paper type (standard, gloss, poster)?"
   ]
  },
  {
   "cell_type": "markdown",
   "id": "d15d3869",
   "metadata": {},
   "source": [
    "__A6 SQL__"
   ]
  },
  {
   "cell_type": "code",
   "execution_count": 32,
   "id": "3df8298a",
   "metadata": {},
   "outputs": [
    {
     "data": {
      "text/html": [
       "<div>\n",
       "<style scoped>\n",
       "    .dataframe tbody tr th:only-of-type {\n",
       "        vertical-align: middle;\n",
       "    }\n",
       "\n",
       "    .dataframe tbody tr th {\n",
       "        vertical-align: top;\n",
       "    }\n",
       "\n",
       "    .dataframe thead th {\n",
       "        text-align: right;\n",
       "    }\n",
       "</style>\n",
       "<table border=\"1\" class=\"dataframe\">\n",
       "  <thead>\n",
       "    <tr style=\"text-align: right;\">\n",
       "      <th></th>\n",
       "      <th>average_standard_quantity</th>\n",
       "      <th>average_standard_revenue</th>\n",
       "      <th>average_gloss_quantity</th>\n",
       "      <th>average_gloss_revenue</th>\n",
       "      <th>average_poster_quantity</th>\n",
       "      <th>average_poster_revenue</th>\n",
       "    </tr>\n",
       "  </thead>\n",
       "  <tbody>\n",
       "    <tr>\n",
       "      <th>0</th>\n",
       "      <td>280.0</td>\n",
       "      <td>1399.56</td>\n",
       "      <td>147.0</td>\n",
       "      <td>1098.68</td>\n",
       "      <td>105.0</td>\n",
       "      <td>850.21</td>\n",
       "    </tr>\n",
       "  </tbody>\n",
       "</table>\n",
       "</div>"
      ],
      "text/plain": [
       "   average_standard_quantity  average_standard_revenue  \\\n",
       "0                      280.0                   1399.56   \n",
       "\n",
       "   average_gloss_quantity  average_gloss_revenue  average_poster_quantity  \\\n",
       "0                   147.0                1098.68                    105.0   \n",
       "\n",
       "   average_poster_revenue  \n",
       "0                  850.21  "
      ]
     },
     "execution_count": 32,
     "metadata": {},
     "output_type": "execute_result"
    }
   ],
   "source": [
    "a6_script = \"\"\"SELECT \n",
    "                    ROUND(AVG(standard_qty),0) AS Average_Standard_Quantity\n",
    "                    ,ROUND(AVG(standard_amt_usd),2) AS Average_Standard_Revenue\n",
    "                    ,ROUND(AVG(gloss_qty),0) AS Average_Gloss_Quantity\n",
    "                    ,ROUND(AVG(gloss_amt_usd),2) AS Average_Gloss_Revenue\n",
    "                    ,ROUND(AVG(poster_qty),0) AS Average_Poster_Quantity\n",
    "                    ,ROUND(AVG(poster_amt_usd),2) AS Average_Poster_Revenue\n",
    "               FROM orders\"\"\"\n",
    "\n",
    "a6_sql = pd.read_sql_query(a6_script,con=conn)\n",
    "\n",
    "a6_sql.head()"
   ]
  },
  {
   "cell_type": "markdown",
   "id": "e97fbc58",
   "metadata": {},
   "source": [
    "__A6 Pandas__"
   ]
  },
  {
   "cell_type": "code",
   "execution_count": 33,
   "id": "402e32ee",
   "metadata": {},
   "outputs": [
    {
     "data": {
      "text/html": [
       "<div>\n",
       "<style scoped>\n",
       "    .dataframe tbody tr th:only-of-type {\n",
       "        vertical-align: middle;\n",
       "    }\n",
       "\n",
       "    .dataframe tbody tr th {\n",
       "        vertical-align: top;\n",
       "    }\n",
       "\n",
       "    .dataframe thead th {\n",
       "        text-align: right;\n",
       "    }\n",
       "</style>\n",
       "<table border=\"1\" class=\"dataframe\">\n",
       "  <thead>\n",
       "    <tr style=\"text-align: right;\">\n",
       "      <th></th>\n",
       "      <th>average_standard_quantity</th>\n",
       "      <th>average_standard_revenue</th>\n",
       "      <th>average_gloss_quantity</th>\n",
       "      <th>average_gloss_revenue</th>\n",
       "      <th>average_poster_quantity</th>\n",
       "      <th>average_poster_revenue</th>\n",
       "    </tr>\n",
       "  </thead>\n",
       "  <tbody>\n",
       "    <tr>\n",
       "      <th>0</th>\n",
       "      <td>280.0</td>\n",
       "      <td>1399.56</td>\n",
       "      <td>147.0</td>\n",
       "      <td>1098.68</td>\n",
       "      <td>105.0</td>\n",
       "      <td>850.21</td>\n",
       "    </tr>\n",
       "  </tbody>\n",
       "</table>\n",
       "</div>"
      ],
      "text/plain": [
       "   average_standard_quantity  average_standard_revenue  \\\n",
       "0                      280.0                   1399.56   \n",
       "\n",
       "   average_gloss_quantity  average_gloss_revenue  average_poster_quantity  \\\n",
       "0                   147.0                1098.68                    105.0   \n",
       "\n",
       "   average_poster_revenue  \n",
       "0                  850.21  "
      ]
     },
     "execution_count": 33,
     "metadata": {},
     "output_type": "execute_result"
    }
   ],
   "source": [
    "a6_pandas = pd.DataFrame()\n",
    "\n",
    "a6_pandas.loc[0,'average_standard_quantity'] = df['standard_qty'].mean().round(0)\n",
    "a6_pandas.loc[0,'average_standard_revenue'] = df['standard_amt_usd'].mean().round(2)\n",
    "a6_pandas.loc[0,'average_gloss_quantity'] = df['gloss_qty'].mean().round(0)\n",
    "a6_pandas.loc[0,'average_gloss_revenue'] = df['gloss_amt_usd'].mean().round(2)\n",
    "a6_pandas.loc[0,'average_poster_quantity'] = df['poster_qty'].mean().round(0)\n",
    "a6_pandas.loc[0,'average_poster_revenue'] = df['poster_amt_usd'].mean().round(2)\n",
    "a6_pandas"
   ]
  },
  {
   "cell_type": "markdown",
   "id": "7baa6678",
   "metadata": {},
   "source": [
    "__Comparison__"
   ]
  },
  {
   "cell_type": "code",
   "execution_count": 34,
   "id": "22353954",
   "metadata": {},
   "outputs": [
    {
     "data": {
      "text/plain": [
       "average_standard_quantity    1\n",
       "average_standard_revenue     1\n",
       "average_gloss_quantity       1\n",
       "average_gloss_revenue        1\n",
       "average_poster_quantity      1\n",
       "average_poster_revenue       1\n",
       "dtype: int64"
      ]
     },
     "execution_count": 34,
     "metadata": {},
     "output_type": "execute_result"
    }
   ],
   "source": [
    "(a6_sql==a6_pandas).sum()"
   ]
  },
  {
   "cell_type": "markdown",
   "id": "fa648009",
   "metadata": {},
   "source": [
    "### Q7\n",
    "What is median of (total_amt_usd) values?"
   ]
  },
  {
   "cell_type": "markdown",
   "id": "c2376500",
   "metadata": {},
   "source": [
    "__A7 SQL__"
   ]
  },
  {
   "cell_type": "code",
   "execution_count": 35,
   "id": "cc3202d5",
   "metadata": {},
   "outputs": [
    {
     "data": {
      "text/html": [
       "<div>\n",
       "<style scoped>\n",
       "    .dataframe tbody tr th:only-of-type {\n",
       "        vertical-align: middle;\n",
       "    }\n",
       "\n",
       "    .dataframe tbody tr th {\n",
       "        vertical-align: top;\n",
       "    }\n",
       "\n",
       "    .dataframe thead th {\n",
       "        text-align: right;\n",
       "    }\n",
       "</style>\n",
       "<table border=\"1\" class=\"dataframe\">\n",
       "  <thead>\n",
       "    <tr style=\"text-align: right;\">\n",
       "      <th></th>\n",
       "      <th>medain_revenue</th>\n",
       "    </tr>\n",
       "  </thead>\n",
       "  <tbody>\n",
       "    <tr>\n",
       "      <th>0</th>\n",
       "      <td>2483.16</td>\n",
       "    </tr>\n",
       "  </tbody>\n",
       "</table>\n",
       "</div>"
      ],
      "text/plain": [
       "   medain_revenue\n",
       "0         2483.16"
      ]
     },
     "execution_count": 35,
     "metadata": {},
     "output_type": "execute_result"
    }
   ],
   "source": [
    "a7_script = \"\"\"\n",
    "               SELECT \n",
    "                    AVG(1.0*total_amt_usd) as medain_revenue\n",
    "               FROM (SELECT \n",
    "                        total_amt_usd \n",
    "                     FROM orders\n",
    "                     ORDER BY total_amt_usd\n",
    "                     OFFSET ((SELECT COUNT(*) FROM orders) - 1)/2 \n",
    "                     FETCH NEXT (1 + (1-(SELECT COUNT(*) FROM orders)%2)) ROWS ONLY\n",
    "                    )  AS T1\n",
    "                    \"\"\"\n",
    "\n",
    "a7_sql = pd.read_sql_query(a7_script,con=conn)\n",
    "\n",
    "a7_sql"
   ]
  },
  {
   "cell_type": "markdown",
   "id": "231785e3",
   "metadata": {},
   "source": [
    "__A7 Pandas__"
   ]
  },
  {
   "cell_type": "code",
   "execution_count": 36,
   "id": "187cd380",
   "metadata": {},
   "outputs": [
    {
     "data": {
      "text/plain": [
       "2483.16"
      ]
     },
     "execution_count": 36,
     "metadata": {},
     "output_type": "execute_result"
    }
   ],
   "source": [
    "a7_pandas = df['total_amt_usd'].median()\n",
    "a7_pandas"
   ]
  },
  {
   "cell_type": "markdown",
   "id": "5f3bf8e8",
   "metadata": {},
   "source": [
    "__Comparison__"
   ]
  },
  {
   "cell_type": "code",
   "execution_count": 37,
   "id": "e50fb77e",
   "metadata": {},
   "outputs": [
    {
     "data": {
      "text/html": [
       "<div>\n",
       "<style scoped>\n",
       "    .dataframe tbody tr th:only-of-type {\n",
       "        vertical-align: middle;\n",
       "    }\n",
       "\n",
       "    .dataframe tbody tr th {\n",
       "        vertical-align: top;\n",
       "    }\n",
       "\n",
       "    .dataframe thead th {\n",
       "        text-align: right;\n",
       "    }\n",
       "</style>\n",
       "<table border=\"1\" class=\"dataframe\">\n",
       "  <thead>\n",
       "    <tr style=\"text-align: right;\">\n",
       "      <th></th>\n",
       "      <th>medain_revenue</th>\n",
       "    </tr>\n",
       "  </thead>\n",
       "  <tbody>\n",
       "    <tr>\n",
       "      <th>0</th>\n",
       "      <td>True</td>\n",
       "    </tr>\n",
       "  </tbody>\n",
       "</table>\n",
       "</div>"
      ],
      "text/plain": [
       "   medain_revenue\n",
       "0            True"
      ]
     },
     "execution_count": 37,
     "metadata": {},
     "output_type": "execute_result"
    }
   ],
   "source": [
    "a7_sql == a7_pandas"
   ]
  },
  {
   "cell_type": "markdown",
   "id": "9a5227ca",
   "metadata": {},
   "source": [
    "### Q8\n",
    "In which month of which year did Walmart spend the most on gloss paper in terms of dollars?"
   ]
  },
  {
   "cell_type": "code",
   "execution_count": 38,
   "id": "70786ef8",
   "metadata": {
    "scrolled": true
   },
   "outputs": [
    {
     "data": {
      "text/html": [
       "<div>\n",
       "<style scoped>\n",
       "    .dataframe tbody tr th:only-of-type {\n",
       "        vertical-align: middle;\n",
       "    }\n",
       "\n",
       "    .dataframe tbody tr th {\n",
       "        vertical-align: top;\n",
       "    }\n",
       "\n",
       "    .dataframe thead th {\n",
       "        text-align: right;\n",
       "    }\n",
       "</style>\n",
       "<table border=\"1\" class=\"dataframe\">\n",
       "  <thead>\n",
       "    <tr style=\"text-align: right;\">\n",
       "      <th></th>\n",
       "      <th>year</th>\n",
       "      <th>month</th>\n",
       "      <th>gloss_total_revenue</th>\n",
       "    </tr>\n",
       "  </thead>\n",
       "  <tbody>\n",
       "    <tr>\n",
       "      <th>0</th>\n",
       "      <td>2016</td>\n",
       "      <td>5</td>\n",
       "      <td>9257.64</td>\n",
       "    </tr>\n",
       "  </tbody>\n",
       "</table>\n",
       "</div>"
      ],
      "text/plain": [
       "   year  month  gloss_total_revenue\n",
       "0  2016      5              9257.64"
      ]
     },
     "execution_count": 38,
     "metadata": {},
     "output_type": "execute_result"
    }
   ],
   "source": [
    "a8_script = \"\"\"SELECT\n",
    "                    CAST(DATE_PART('month', o.occurred_at) AS INTEGER) AS month\n",
    "                    ,CAST(DATE_PART('year', o.occurred_at) AS INTEGER) AS year\n",
    "                    ,SUM(o.gloss_amt_usd) AS gloss_total_revenue\n",
    "               FROM orders AS o\n",
    "               INNER JOIN accounts AS a\n",
    "                   ON a.id = o.account_id\n",
    "               WHERE a.name = 'Walmart'\n",
    "               GROUP BY DATE_PART('month', o.occurred_at), DATE_PART('year', o.occurred_at)\n",
    "               ORDER BY  gloss_total_revenue DESC\n",
    "               LIMIT(1)\n",
    "               \"\"\"\n",
    "\n",
    "a8_sql = pd.read_sql_query(a8_script,con=conn)[['year','month','gloss_total_revenue']]\n",
    "\n",
    "a8_sql"
   ]
  },
  {
   "cell_type": "markdown",
   "id": "48302b89",
   "metadata": {},
   "source": [
    "__A8 Pandas__"
   ]
  },
  {
   "cell_type": "code",
   "execution_count": 39,
   "id": "6f99140a",
   "metadata": {
    "scrolled": true
   },
   "outputs": [
    {
     "data": {
      "text/html": [
       "<div>\n",
       "<style scoped>\n",
       "    .dataframe tbody tr th:only-of-type {\n",
       "        vertical-align: middle;\n",
       "    }\n",
       "\n",
       "    .dataframe tbody tr th {\n",
       "        vertical-align: top;\n",
       "    }\n",
       "\n",
       "    .dataframe thead th {\n",
       "        text-align: right;\n",
       "    }\n",
       "</style>\n",
       "<table border=\"1\" class=\"dataframe\">\n",
       "  <thead>\n",
       "    <tr style=\"text-align: right;\">\n",
       "      <th></th>\n",
       "      <th>year</th>\n",
       "      <th>month</th>\n",
       "      <th>gloss_total_revenue</th>\n",
       "    </tr>\n",
       "  </thead>\n",
       "  <tbody>\n",
       "    <tr>\n",
       "      <th>0</th>\n",
       "      <td>2016</td>\n",
       "      <td>5</td>\n",
       "      <td>9257.64</td>\n",
       "    </tr>\n",
       "  </tbody>\n",
       "</table>\n",
       "</div>"
      ],
      "text/plain": [
       "   year  month  gloss_total_revenue\n",
       "0  2016      5              9257.64"
      ]
     },
     "execution_count": 39,
     "metadata": {},
     "output_type": "execute_result"
    }
   ],
   "source": [
    "q8_pandas = df[df['account']=='Walmart'].\\\n",
    "                groupby([df['order_date_time'].dt.year,df['order_date_time'].dt.month]).\\\n",
    "                agg(gloss_total_revenue = ('gloss_amt_usd','sum')).\\\n",
    "                sort_values('gloss_total_revenue', ascending=False).\\\n",
    "                head(1)\n",
    "\n",
    "q8_pandas['year'] = q8_pandas.index.get_level_values(0)\n",
    "q8_pandas['month'] = q8_pandas.index.get_level_values(1)\n",
    "\n",
    "q8_pandas.reset_index(drop=True, inplace=True)\n",
    "q8_pandas = q8_pandas[['year','month','gloss_total_revenue']]\n",
    "\n",
    "q8_pandas"
   ]
  },
  {
   "cell_type": "markdown",
   "id": "fa2a83b7",
   "metadata": {},
   "source": [
    "__Comparison__"
   ]
  },
  {
   "cell_type": "code",
   "execution_count": 40,
   "id": "43c6be03",
   "metadata": {},
   "outputs": [
    {
     "data": {
      "text/plain": [
       "year                   1\n",
       "month                  1\n",
       "gloss_total_revenue    1\n",
       "dtype: int64"
      ]
     },
     "execution_count": 40,
     "metadata": {},
     "output_type": "execute_result"
    }
   ],
   "source": [
    "(a8_sql == q8_pandas).sum()"
   ]
  },
  {
   "cell_type": "markdown",
   "id": "6063ff11",
   "metadata": {},
   "source": [
    "### Q9 \n",
    "What is the lifetime average amount spent in terms of total_amt_usd, including only the companies that spent more per order, on average, than the average of all orders?"
   ]
  },
  {
   "cell_type": "markdown",
   "id": "06da516e",
   "metadata": {},
   "source": [
    "__A9 SQL__"
   ]
  },
  {
   "cell_type": "code",
   "execution_count": 41,
   "id": "fe4f5b93",
   "metadata": {},
   "outputs": [
    {
     "data": {
      "text/html": [
       "<div>\n",
       "<style scoped>\n",
       "    .dataframe tbody tr th:only-of-type {\n",
       "        vertical-align: middle;\n",
       "    }\n",
       "\n",
       "    .dataframe tbody tr th {\n",
       "        vertical-align: top;\n",
       "    }\n",
       "\n",
       "    .dataframe thead th {\n",
       "        text-align: right;\n",
       "    }\n",
       "</style>\n",
       "<table border=\"1\" class=\"dataframe\">\n",
       "  <thead>\n",
       "    <tr style=\"text-align: right;\">\n",
       "      <th></th>\n",
       "      <th>top10_companies_average_of_average_revenue</th>\n",
       "    </tr>\n",
       "  </thead>\n",
       "  <tbody>\n",
       "    <tr>\n",
       "      <th>0</th>\n",
       "      <td>4721.0</td>\n",
       "    </tr>\n",
       "  </tbody>\n",
       "</table>\n",
       "</div>"
      ],
      "text/plain": [
       "   top10_companies_average_of_average_revenue\n",
       "0                                      4721.0"
      ]
     },
     "execution_count": 41,
     "metadata": {},
     "output_type": "execute_result"
    }
   ],
   "source": [
    "a9_script = \"\"\"SELECT \n",
    "                    ROUND(AVG(average_revenue),0) AS top10_companies_average_of_average_revenue\n",
    "               FROM (SELECT \n",
    "                        o.account_id AS account\n",
    "                        ,AVG(o.total_amt_usd) AS average_revenue\n",
    "                      FROM orders AS o\n",
    "                      GROUP BY o.account_id\n",
    "                      HAVING AVG(o.total_amt_usd) > ( SELECT \n",
    "                                                          AVG(o.total_amt_usd) AS average_spent\n",
    "                                                      FROM orders AS o )\n",
    "                         ) AS T1 \"\"\"\n",
    "\n",
    "a9_sql = pd.read_sql_query(a9_script,con=conn)\n",
    "\n",
    "a9_sql"
   ]
  },
  {
   "cell_type": "markdown",
   "id": "a6a46dd3",
   "metadata": {},
   "source": [
    "__A9 Pandas__"
   ]
  },
  {
   "cell_type": "code",
   "execution_count": 42,
   "id": "6d01f6cb",
   "metadata": {},
   "outputs": [
    {
     "data": {
      "text/plain": [
       "4721.0"
      ]
     },
     "execution_count": 42,
     "metadata": {},
     "output_type": "execute_result"
    }
   ],
   "source": [
    "average_spent = df['total_amt_usd'].mean()\n",
    "\n",
    "a9_pandas = df[['account','total_amt_usd']].groupby('account').\\\n",
    "                agg(average_revenue=('total_amt_usd','mean'))\n",
    "\n",
    "a9_pandas = a9_pandas[a9_pandas['average_revenue']>average_spent]\n",
    "\n",
    "a9_pandas = a9_pandas['average_revenue'].mean().round(0)\n",
    "\n",
    "a9_pandas"
   ]
  },
  {
   "cell_type": "markdown",
   "id": "aee521ea",
   "metadata": {},
   "source": [
    "__Comparison__"
   ]
  },
  {
   "cell_type": "code",
   "execution_count": 43,
   "id": "1f3d3827",
   "metadata": {},
   "outputs": [
    {
     "data": {
      "text/plain": [
       "1"
      ]
     },
     "execution_count": 43,
     "metadata": {},
     "output_type": "execute_result"
    }
   ],
   "source": [
    "(a9_sql.values==a9_pandas).sum()"
   ]
  },
  {
   "cell_type": "markdown",
   "id": "0c5b3c34",
   "metadata": {},
   "source": [
    "### Q10\n",
    "What is the lifetime average total amount spent in terms of total_amt_usd for the top 10 total spending accounts?\n"
   ]
  },
  {
   "cell_type": "markdown",
   "id": "ed1e4bad",
   "metadata": {},
   "source": [
    "__A10 SQL__"
   ]
  },
  {
   "cell_type": "code",
   "execution_count": 44,
   "id": "8caba10b",
   "metadata": {
    "scrolled": true
   },
   "outputs": [
    {
     "data": {
      "text/html": [
       "<div>\n",
       "<style scoped>\n",
       "    .dataframe tbody tr th:only-of-type {\n",
       "        vertical-align: middle;\n",
       "    }\n",
       "\n",
       "    .dataframe tbody tr th {\n",
       "        vertical-align: top;\n",
       "    }\n",
       "\n",
       "    .dataframe thead th {\n",
       "        text-align: right;\n",
       "    }\n",
       "</style>\n",
       "<table border=\"1\" class=\"dataframe\">\n",
       "  <thead>\n",
       "    <tr style=\"text-align: right;\">\n",
       "      <th></th>\n",
       "      <th>top10_companies_average_total_revenue</th>\n",
       "    </tr>\n",
       "  </thead>\n",
       "  <tbody>\n",
       "    <tr>\n",
       "      <th>0</th>\n",
       "      <td>304846.969</td>\n",
       "    </tr>\n",
       "  </tbody>\n",
       "</table>\n",
       "</div>"
      ],
      "text/plain": [
       "   top10_companies_average_total_revenue\n",
       "0                             304846.969"
      ]
     },
     "execution_count": 44,
     "metadata": {},
     "output_type": "execute_result"
    }
   ],
   "source": [
    "a10_script = \"\"\"SELECT \n",
    "                    AVG(total_revenue) AS top10_companies_average_total_revenue\n",
    "                FROM (SELECT \n",
    "                        a.id AS account_id\n",
    "                        ,a.name AS Account\n",
    "                        ,SUM(o.total_amt_usd) AS total_revenue\n",
    "                      FROM orders AS o\n",
    "                      INNER JOIN accounts AS a\n",
    "                          ON a.id = o.account_id\n",
    "                      GROUP BY a.id, a.name\n",
    "                      ORDER BY total_revenue DESC\n",
    "                      LIMIT(10)\n",
    "                     ) AS T1\"\"\"\n",
    "\n",
    "a10_sql = pd.read_sql_query(a10_script,con=conn)\n",
    "\n",
    "a10_sql"
   ]
  },
  {
   "cell_type": "markdown",
   "id": "14c8025f",
   "metadata": {},
   "source": [
    "__A10 Pandas__"
   ]
  },
  {
   "cell_type": "code",
   "execution_count": 45,
   "id": "6a2c6708",
   "metadata": {},
   "outputs": [
    {
     "data": {
      "text/plain": [
       "total_revenue    304846.969\n",
       "dtype: float64"
      ]
     },
     "execution_count": 45,
     "metadata": {},
     "output_type": "execute_result"
    }
   ],
   "source": [
    "a10_pandas = df[['account','total_amt_usd']].groupby('account').\\\n",
    "                agg(total_revenue=('total_amt_usd','sum')).\\\n",
    "                sort_values('total_revenue',ascending=False).\\\n",
    "                head(10).\\\n",
    "                mean()\n",
    "\n",
    "a10_pandas"
   ]
  },
  {
   "cell_type": "markdown",
   "id": "c8400816",
   "metadata": {},
   "source": [
    "__Comparison__"
   ]
  },
  {
   "cell_type": "code",
   "execution_count": 46,
   "id": "e3f89cb1",
   "metadata": {},
   "outputs": [
    {
     "data": {
      "text/plain": [
       "1"
      ]
     },
     "execution_count": 46,
     "metadata": {},
     "output_type": "execute_result"
    }
   ],
   "source": [
    "(a10_sql.values==a10_pandas.values).sum()"
   ]
  },
  {
   "cell_type": "markdown",
   "id": "08c11cb8",
   "metadata": {},
   "source": [
    "### Sales & Marketing Business Requests"
   ]
  },
  {
   "cell_type": "markdown",
   "id": "355ded59",
   "metadata": {},
   "source": [
    "### Q11\n",
    "How many accounts spent more than 30,000 usd total across all orders?"
   ]
  },
  {
   "cell_type": "markdown",
   "id": "6d88efb6",
   "metadata": {},
   "source": [
    "__A11 SQL__"
   ]
  },
  {
   "cell_type": "code",
   "execution_count": 47,
   "id": "3434e723",
   "metadata": {},
   "outputs": [
    {
     "data": {
      "text/html": [
       "<div>\n",
       "<style scoped>\n",
       "    .dataframe tbody tr th:only-of-type {\n",
       "        vertical-align: middle;\n",
       "    }\n",
       "\n",
       "    .dataframe tbody tr th {\n",
       "        vertical-align: top;\n",
       "    }\n",
       "\n",
       "    .dataframe thead th {\n",
       "        text-align: right;\n",
       "    }\n",
       "</style>\n",
       "<table border=\"1\" class=\"dataframe\">\n",
       "  <thead>\n",
       "    <tr style=\"text-align: right;\">\n",
       "      <th></th>\n",
       "      <th>count</th>\n",
       "    </tr>\n",
       "  </thead>\n",
       "  <tbody>\n",
       "    <tr>\n",
       "      <th>0</th>\n",
       "      <td>204</td>\n",
       "    </tr>\n",
       "  </tbody>\n",
       "</table>\n",
       "</div>"
      ],
      "text/plain": [
       "   count\n",
       "0    204"
      ]
     },
     "execution_count": 47,
     "metadata": {},
     "output_type": "execute_result"
    }
   ],
   "source": [
    "a11_script = \"\"\"WITH T1 AS\n",
    "                    (SELECT \n",
    "                        a.id AS account_id\n",
    "                        ,SUM(o.total_amt_usd) AS total_revenue\n",
    "                     FROM accounts AS a\n",
    "                     INNER JOIN orders AS o\n",
    "                       ON a.id = o.account_id\n",
    "                     GROUP BY a.id\n",
    "                     HAVING SUM(o.total_amt_usd) > 30000\n",
    "                    )\n",
    "                SELECT \n",
    "                    COUNT(*)\n",
    "                FROM T1\n",
    "                \"\"\"\n",
    "\n",
    "a11_sql = pd.read_sql_query(a11_script,con=conn)\n",
    "\n",
    "a11_sql"
   ]
  },
  {
   "cell_type": "markdown",
   "id": "ccbb08c8",
   "metadata": {},
   "source": [
    "__A11 Pandas__"
   ]
  },
  {
   "cell_type": "code",
   "execution_count": 48,
   "id": "a40aebcd",
   "metadata": {},
   "outputs": [
    {
     "data": {
      "text/plain": [
       "204"
      ]
     },
     "execution_count": 48,
     "metadata": {},
     "output_type": "execute_result"
    }
   ],
   "source": [
    "a11_pandas = df[['account_id','total_amt_usd']].\\\n",
    "                groupby('account_id').\\\n",
    "                agg(total_revenue=('total_amt_usd','sum'))\n",
    "\n",
    "a11_pandas = len(a11_pandas[a11_pandas ['total_revenue']>30000])\n",
    "a11_pandas"
   ]
  },
  {
   "cell_type": "markdown",
   "id": "81fb2883",
   "metadata": {},
   "source": [
    "__comparison__"
   ]
  },
  {
   "cell_type": "code",
   "execution_count": 49,
   "id": "b1b028ab",
   "metadata": {},
   "outputs": [
    {
     "data": {
      "text/plain": [
       "1"
      ]
     },
     "execution_count": 49,
     "metadata": {},
     "output_type": "execute_result"
    }
   ],
   "source": [
    "(a11_sql.values==a11_pandas).sum()"
   ]
  },
  {
   "cell_type": "markdown",
   "id": "6ad3f377",
   "metadata": {},
   "source": [
    "### Q12\n",
    "Provide a table to show the number of orders in each of three categories, based on the total number of items in each order. The three categories are: 'At Least 2000', 'Between 1500 and 2000' and 'Less than 1500'?"
   ]
  },
  {
   "cell_type": "markdown",
   "id": "9f9c64f0",
   "metadata": {},
   "source": [
    "__A12 SQL__"
   ]
  },
  {
   "cell_type": "code",
   "execution_count": 50,
   "id": "a2488e9c",
   "metadata": {
    "scrolled": false
   },
   "outputs": [
    {
     "data": {
      "text/html": [
       "<div>\n",
       "<style scoped>\n",
       "    .dataframe tbody tr th:only-of-type {\n",
       "        vertical-align: middle;\n",
       "    }\n",
       "\n",
       "    .dataframe tbody tr th {\n",
       "        vertical-align: top;\n",
       "    }\n",
       "\n",
       "    .dataframe thead th {\n",
       "        text-align: right;\n",
       "    }\n",
       "</style>\n",
       "<table border=\"1\" class=\"dataframe\">\n",
       "  <thead>\n",
       "    <tr style=\"text-align: right;\">\n",
       "      <th></th>\n",
       "      <th>order_category</th>\n",
       "      <th>order_count</th>\n",
       "    </tr>\n",
       "  </thead>\n",
       "  <tbody>\n",
       "    <tr>\n",
       "      <th>0</th>\n",
       "      <td>At Least 2000</td>\n",
       "      <td>70</td>\n",
       "    </tr>\n",
       "    <tr>\n",
       "      <th>1</th>\n",
       "      <td>Between 1500 and 2000</td>\n",
       "      <td>60</td>\n",
       "    </tr>\n",
       "    <tr>\n",
       "      <th>2</th>\n",
       "      <td>Less than 1500</td>\n",
       "      <td>6781</td>\n",
       "    </tr>\n",
       "  </tbody>\n",
       "</table>\n",
       "</div>"
      ],
      "text/plain": [
       "          order_category  order_count\n",
       "0          At Least 2000           70\n",
       "1  Between 1500 and 2000           60\n",
       "2         Less than 1500         6781"
      ]
     },
     "execution_count": 50,
     "metadata": {},
     "output_type": "execute_result"
    }
   ],
   "source": [
    "a12_script = \"\"\"with T1 AS\n",
    "                    (SELECT\n",
    "                        id,\n",
    "                        CASE\n",
    "                            WHEN total >= 2000\n",
    "                                THEN 'At Least 2000'\n",
    "                            WHEN total >= 1500\n",
    "                                THEN 'Between 1500 and 2000'\n",
    "                            ELSE\n",
    "                                'Less than 1500'\n",
    "                        END AS order_category\n",
    "                      FROM orders \n",
    "                     )\n",
    "\n",
    "               SELECT order_category, COUNT(*) AS order_count\n",
    "               FROM T1\n",
    "               INNER JOIN orders o\n",
    "                   ON T1.ID = O.id\n",
    "               GROUP BY order_category\n",
    "                \"\"\"\n",
    "\n",
    "a12_sql = pd.read_sql_query(a12_script,con=conn)\n",
    "a12_sql"
   ]
  },
  {
   "cell_type": "markdown",
   "id": "c9000a16",
   "metadata": {},
   "source": [
    "__A12 Pandas__"
   ]
  },
  {
   "cell_type": "code",
   "execution_count": 51,
   "id": "6a4e7a98",
   "metadata": {},
   "outputs": [
    {
     "data": {
      "text/html": [
       "<div>\n",
       "<style scoped>\n",
       "    .dataframe tbody tr th:only-of-type {\n",
       "        vertical-align: middle;\n",
       "    }\n",
       "\n",
       "    .dataframe tbody tr th {\n",
       "        vertical-align: top;\n",
       "    }\n",
       "\n",
       "    .dataframe thead th {\n",
       "        text-align: right;\n",
       "    }\n",
       "</style>\n",
       "<table border=\"1\" class=\"dataframe\">\n",
       "  <thead>\n",
       "    <tr style=\"text-align: right;\">\n",
       "      <th></th>\n",
       "      <th>order_category</th>\n",
       "      <th>order_count</th>\n",
       "    </tr>\n",
       "  </thead>\n",
       "  <tbody>\n",
       "    <tr>\n",
       "      <th>0</th>\n",
       "      <td>At Least 2000</td>\n",
       "      <td>70</td>\n",
       "    </tr>\n",
       "    <tr>\n",
       "      <th>1</th>\n",
       "      <td>Between 1500 and 2000</td>\n",
       "      <td>60</td>\n",
       "    </tr>\n",
       "    <tr>\n",
       "      <th>2</th>\n",
       "      <td>Less than 1500</td>\n",
       "      <td>6781</td>\n",
       "    </tr>\n",
       "  </tbody>\n",
       "</table>\n",
       "</div>"
      ],
      "text/plain": [
       "          order_category  order_count\n",
       "0          At Least 2000           70\n",
       "1  Between 1500 and 2000           60\n",
       "2         Less than 1500         6781"
      ]
     },
     "execution_count": 51,
     "metadata": {},
     "output_type": "execute_result"
    }
   ],
   "source": [
    "new_df = df[['account_id','total']].copy()\n",
    "\n",
    "less_1500_conddition = new_df['total']<1500\n",
    "between_1500_2000_condition = (new_df['total']>=1500) & (new_df['total']<2000)\n",
    "at_least_2000_condition = new_df['total']>=2000\n",
    "\n",
    "\n",
    "new_df.loc[less_1500_conddition,'order_category'] = 'Less than 1500'\n",
    "new_df.loc[between_1500_2000_condition,'order_category'] = 'Between 1500 and 2000'\n",
    "new_df.loc[at_least_2000_condition,'order_category'] = 'At Least 2000'\n",
    "\n",
    "\n",
    "a12_pandas = new_df.groupby('order_category').agg(order_count=('account_id','count')).reset_index()\n",
    "a12_pandas"
   ]
  },
  {
   "cell_type": "markdown",
   "id": "1fcfac94",
   "metadata": {},
   "source": [
    "__Comparison__"
   ]
  },
  {
   "cell_type": "code",
   "execution_count": 52,
   "id": "7c6d96d5",
   "metadata": {},
   "outputs": [
    {
     "data": {
      "text/plain": [
       "order_category    3\n",
       "order_count       3\n",
       "dtype: int64"
      ]
     },
     "execution_count": 52,
     "metadata": {},
     "output_type": "execute_result"
    }
   ],
   "source": [
    "(a12_sql==a12_pandas).sum()"
   ]
  },
  {
   "cell_type": "markdown",
   "id": "dffdd4ba",
   "metadata": {},
   "source": [
    "### Q13\n",
    "For the region with the largest sales total_amt_usd, how many total orders were placed?"
   ]
  },
  {
   "cell_type": "markdown",
   "id": "59a49c52",
   "metadata": {},
   "source": [
    "__A13 SQL__"
   ]
  },
  {
   "cell_type": "code",
   "execution_count": 53,
   "id": "e1c0be0b",
   "metadata": {},
   "outputs": [
    {
     "data": {
      "text/html": [
       "<div>\n",
       "<style scoped>\n",
       "    .dataframe tbody tr th:only-of-type {\n",
       "        vertical-align: middle;\n",
       "    }\n",
       "\n",
       "    .dataframe tbody tr th {\n",
       "        vertical-align: top;\n",
       "    }\n",
       "\n",
       "    .dataframe thead th {\n",
       "        text-align: right;\n",
       "    }\n",
       "</style>\n",
       "<table border=\"1\" class=\"dataframe\">\n",
       "  <thead>\n",
       "    <tr style=\"text-align: right;\">\n",
       "      <th></th>\n",
       "      <th>region</th>\n",
       "      <th>total_orders</th>\n",
       "    </tr>\n",
       "  </thead>\n",
       "  <tbody>\n",
       "    <tr>\n",
       "      <th>0</th>\n",
       "      <td>Northeast</td>\n",
       "      <td>2356</td>\n",
       "    </tr>\n",
       "  </tbody>\n",
       "</table>\n",
       "</div>"
      ],
      "text/plain": [
       "      region  total_orders\n",
       "0  Northeast          2356"
      ]
     },
     "execution_count": 53,
     "metadata": {},
     "output_type": "execute_result"
    }
   ],
   "source": [
    "a13_script = \"\"\"\n",
    "            SELECT \n",
    "                TRIM(r.name) AS region\n",
    "                ,COUNT(o.id) AS total_orders\n",
    "            FROM orders AS o\n",
    "            INNER JOIN accounts AS a\n",
    "                ON o.account_id = a.id\n",
    "            INNER JOIN sales_reps AS sr\n",
    "                ON a.sales_rep_id = sr.id\n",
    "            INNER JOIN region AS r\n",
    "                ON r.id = sr.region_id\n",
    "            GROUP BY r.name\n",
    "            HAVING  SUM(o.total_amt_usd) = ( SELECT \n",
    "                                                MAX(total_revenue)\n",
    "                                             FROM (SELECT \n",
    "                                                       r.name AS Region\n",
    "                                                       ,SUM(o.total_amt_usd) AS total_revenue\n",
    "                                                   FROM orders AS O\n",
    "                                                   INNER JOIN accounts AS a\n",
    "                                                       ON o.account_id = a.id\n",
    "                                                   INNER JOIN sales_reps AS sr\n",
    "                                                       ON sr.id = a.sales_rep_id\n",
    "                                                   INNER JOIN region AS r\n",
    "                                                       ON r.id = sr.region_id\n",
    "                                                   GROUP BY r.name\n",
    "                                                   ) AS T1\n",
    "                                            )\n",
    "                \"\"\"\n",
    "\n",
    "a13_sql = pd.read_sql_query(a13_script,con=conn)\n",
    "a13_sql"
   ]
  },
  {
   "cell_type": "markdown",
   "id": "0470cb07",
   "metadata": {},
   "source": [
    "__A13 Pandas__"
   ]
  },
  {
   "cell_type": "code",
   "execution_count": 54,
   "id": "74d7a745",
   "metadata": {
    "scrolled": true
   },
   "outputs": [
    {
     "data": {
      "text/html": [
       "<div>\n",
       "<style scoped>\n",
       "    .dataframe tbody tr th:only-of-type {\n",
       "        vertical-align: middle;\n",
       "    }\n",
       "\n",
       "    .dataframe tbody tr th {\n",
       "        vertical-align: top;\n",
       "    }\n",
       "\n",
       "    .dataframe thead th {\n",
       "        text-align: right;\n",
       "    }\n",
       "</style>\n",
       "<table border=\"1\" class=\"dataframe\">\n",
       "  <thead>\n",
       "    <tr style=\"text-align: right;\">\n",
       "      <th></th>\n",
       "      <th>region</th>\n",
       "      <th>total_orders</th>\n",
       "    </tr>\n",
       "  </thead>\n",
       "  <tbody>\n",
       "    <tr>\n",
       "      <th>0</th>\n",
       "      <td>Northeast</td>\n",
       "      <td>2356</td>\n",
       "    </tr>\n",
       "  </tbody>\n",
       "</table>\n",
       "</div>"
      ],
      "text/plain": [
       "      region  total_orders\n",
       "0  Northeast          2356"
      ]
     },
     "execution_count": 54,
     "metadata": {},
     "output_type": "execute_result"
    }
   ],
   "source": [
    "a13_pandas = df.groupby('region').\\\n",
    "                agg(total_revenue=('total_amt_usd','sum'),total_orders=('order_id','count')).\\\n",
    "                sort_values('total_revenue',ascending=False).\\\n",
    "                head(1).reset_index()[['region','total_orders']]\n",
    "\n",
    "a13_pandas"
   ]
  },
  {
   "cell_type": "markdown",
   "id": "a52f4f85",
   "metadata": {},
   "source": [
    "__Comparison__"
   ]
  },
  {
   "cell_type": "code",
   "execution_count": 55,
   "id": "7915733f",
   "metadata": {},
   "outputs": [
    {
     "data": {
      "text/plain": [
       "region          1\n",
       "total_orders    1\n",
       "dtype: int64"
      ]
     },
     "execution_count": 55,
     "metadata": {},
     "output_type": "execute_result"
    }
   ],
   "source": [
    "(a13_sql==a13_pandas).sum()"
   ]
  },
  {
   "cell_type": "markdown",
   "id": "2b44b2a6",
   "metadata": {},
   "source": [
    "### Q14\n",
    "How many accounts had more total purchases than the account name which has bought the most standard_qty paper throughout their lifetime as a customer?"
   ]
  },
  {
   "cell_type": "markdown",
   "id": "9f9db7ca",
   "metadata": {},
   "source": [
    "__A14 SQL__"
   ]
  },
  {
   "cell_type": "code",
   "execution_count": 56,
   "id": "ab038500",
   "metadata": {
    "scrolled": true
   },
   "outputs": [
    {
     "data": {
      "text/html": [
       "<div>\n",
       "<style scoped>\n",
       "    .dataframe tbody tr th:only-of-type {\n",
       "        vertical-align: middle;\n",
       "    }\n",
       "\n",
       "    .dataframe tbody tr th {\n",
       "        vertical-align: top;\n",
       "    }\n",
       "\n",
       "    .dataframe thead th {\n",
       "        text-align: right;\n",
       "    }\n",
       "</style>\n",
       "<table border=\"1\" class=\"dataframe\">\n",
       "  <thead>\n",
       "    <tr style=\"text-align: right;\">\n",
       "      <th></th>\n",
       "      <th>accounts_count</th>\n",
       "    </tr>\n",
       "  </thead>\n",
       "  <tbody>\n",
       "    <tr>\n",
       "      <th>0</th>\n",
       "      <td>3</td>\n",
       "    </tr>\n",
       "  </tbody>\n",
       "</table>\n",
       "</div>"
      ],
      "text/plain": [
       "   accounts_count\n",
       "0               3"
      ]
     },
     "execution_count": 56,
     "metadata": {},
     "output_type": "execute_result"
    }
   ],
   "source": [
    "a14_script = \"\"\"\n",
    "    SELECT \n",
    "        COUNT(*) AS accounts_count\n",
    "    FROM\n",
    "    (SELECT \n",
    "        a.name AS account\n",
    "     FROM orders AS o\n",
    "     INNER JOIN accounts AS a\n",
    "     ON a.id = o.account_id\n",
    "     GROUP BY a.name\n",
    "     HAVING SUM(o.total) > (SELECT \n",
    "                               total_orders\n",
    "                           FROM (SELECT \n",
    "                                     a.name AS Account\n",
    "                                     ,SUM(o.standard_qty) AS total_standard_quantity\n",
    "                                     ,SUM(o.total) AS total_orders\n",
    "                                 FROM accounts AS a\n",
    "                                 INNER JOIN orders AS o\n",
    "                                     ON a.id = o.account_id\n",
    "                                 GROUP BY a.name\n",
    "                                 ORDER BY total_standard_quantity DESC\n",
    "                                 LIMIT(1)\n",
    "                                 ) AS T1\n",
    "                            )\n",
    "        ) T2\"\"\"\n",
    "\n",
    "a14_sql = pd.read_sql_query(a14_script,con=conn)\n",
    "a14_sql"
   ]
  },
  {
   "cell_type": "markdown",
   "id": "5a98203d",
   "metadata": {},
   "source": [
    "__A14 Pandas__"
   ]
  },
  {
   "cell_type": "code",
   "execution_count": 57,
   "id": "bd1950a4",
   "metadata": {},
   "outputs": [
    {
     "data": {
      "text/plain": [
       "3"
      ]
     },
     "execution_count": 57,
     "metadata": {},
     "output_type": "execute_result"
    }
   ],
   "source": [
    "target_total_orders = df.groupby('account').\\\n",
    "                        agg(total_standard_qty=('standard_qty','sum'),total_orders=('total','sum')).\\\n",
    "                        sort_values('total_standard_qty',ascending=False).\\\n",
    "                        head(1)['total_orders'].values[0]\n",
    "\n",
    "a14_pandas = df.groupby('account').agg(total_orders=('total','sum'))\n",
    "a14_pandas = len(a14_pandas[a14_pandas['total_orders']>target_total_orders])\n",
    "\n",
    "a14_pandas"
   ]
  },
  {
   "cell_type": "markdown",
   "id": "39b34659",
   "metadata": {},
   "source": [
    "__Comparison__"
   ]
  },
  {
   "cell_type": "code",
   "execution_count": 58,
   "id": "0b9d99cb",
   "metadata": {},
   "outputs": [
    {
     "data": {
      "text/plain": [
       "1"
      ]
     },
     "execution_count": 58,
     "metadata": {},
     "output_type": "execute_result"
    }
   ],
   "source": [
    "(a14_sql.values==a14_pandas).sum()"
   ]
  },
  {
   "cell_type": "markdown",
   "id": "d1a1ed1d",
   "metadata": {},
   "source": [
    "### Q15\n",
    "Provide a record for the  revenue, previous date revenue, difference from the previous date revenue for\n",
    "the top most spending account?"
   ]
  },
  {
   "cell_type": "markdown",
   "id": "c54fc729",
   "metadata": {},
   "source": [
    "__A15 SQL__"
   ]
  },
  {
   "cell_type": "code",
   "execution_count": 59,
   "id": "255ffb90",
   "metadata": {},
   "outputs": [
    {
     "data": {
      "text/html": [
       "<div>\n",
       "<style scoped>\n",
       "    .dataframe tbody tr th:only-of-type {\n",
       "        vertical-align: middle;\n",
       "    }\n",
       "\n",
       "    .dataframe tbody tr th {\n",
       "        vertical-align: top;\n",
       "    }\n",
       "\n",
       "    .dataframe thead th {\n",
       "        text-align: right;\n",
       "    }\n",
       "</style>\n",
       "<table border=\"1\" class=\"dataframe\">\n",
       "  <thead>\n",
       "    <tr style=\"text-align: right;\">\n",
       "      <th></th>\n",
       "      <th>account_id</th>\n",
       "      <th>date</th>\n",
       "      <th>revenue</th>\n",
       "      <th>previous_revenue</th>\n",
       "      <th>difference</th>\n",
       "    </tr>\n",
       "  </thead>\n",
       "  <tbody>\n",
       "    <tr>\n",
       "      <th>0</th>\n",
       "      <td>4211</td>\n",
       "      <td>2013-12-12 09:48:16</td>\n",
       "      <td>733.89</td>\n",
       "      <td>8680.34</td>\n",
       "      <td>-7946.45</td>\n",
       "    </tr>\n",
       "    <tr>\n",
       "      <th>1</th>\n",
       "      <td>4211</td>\n",
       "      <td>2013-12-12 09:54:34</td>\n",
       "      <td>8680.34</td>\n",
       "      <td>8355.96</td>\n",
       "      <td>324.38</td>\n",
       "    </tr>\n",
       "    <tr>\n",
       "      <th>2</th>\n",
       "      <td>4211</td>\n",
       "      <td>2014-01-11 09:33:59</td>\n",
       "      <td>8355.96</td>\n",
       "      <td>1388.73</td>\n",
       "      <td>6967.23</td>\n",
       "    </tr>\n",
       "    <tr>\n",
       "      <th>3</th>\n",
       "      <td>4211</td>\n",
       "      <td>2014-01-11 09:42:04</td>\n",
       "      <td>1388.73</td>\n",
       "      <td>8077.66</td>\n",
       "      <td>-6688.93</td>\n",
       "    </tr>\n",
       "    <tr>\n",
       "      <th>4</th>\n",
       "      <td>4211</td>\n",
       "      <td>2014-02-09 09:00:48</td>\n",
       "      <td>8077.66</td>\n",
       "      <td>1421.88</td>\n",
       "      <td>6655.78</td>\n",
       "    </tr>\n",
       "  </tbody>\n",
       "</table>\n",
       "</div>"
      ],
      "text/plain": [
       "   account_id                date  revenue  previous_revenue  difference\n",
       "0        4211 2013-12-12 09:48:16   733.89           8680.34    -7946.45\n",
       "1        4211 2013-12-12 09:54:34  8680.34           8355.96      324.38\n",
       "2        4211 2014-01-11 09:33:59  8355.96           1388.73     6967.23\n",
       "3        4211 2014-01-11 09:42:04  1388.73           8077.66    -6688.93\n",
       "4        4211 2014-02-09 09:00:48  8077.66           1421.88     6655.78"
      ]
     },
     "execution_count": 59,
     "metadata": {},
     "output_type": "execute_result"
    }
   ],
   "source": [
    "a15_script = \"\"\"\n",
    "    SELECT\n",
    "        account_id\n",
    "        ,occurred_at AS date\n",
    "        ,total_amt_usd AS revenue\n",
    "        ,LEAD(total_amt_usd) OVER (ORDER BY occurred_at)  AS previous_revenue\n",
    "        ,ROUND(total_amt_usd-LEAD(total_amt_usd) OVER (ORDER BY occurred_at),2) AS difference\n",
    "    FROM orders\n",
    "    WHERE account_id IN (SELECT \n",
    "                             account_id\n",
    "                         FROM (SELECT\n",
    "                                   account_id\n",
    "                                   ,SUM(total_amt_usd) AS total_revenue\n",
    "                               FROM orders\n",
    "                               GROUP BY account_id\n",
    "                               ORDER BY total_revenue DESC\n",
    "                               LIMIT(1)\n",
    "                              ) AS T1\n",
    "\n",
    "                          )\n",
    "    ORDER BY date\n",
    "                          \"\"\"\n",
    "\n",
    "a15_sql = pd.read_sql_query(a15_script,con=conn)\n",
    "\n",
    "a15_sql.to_csv('../results/a15_sql.csv')\n",
    "a15_sql.head()"
   ]
  },
  {
   "cell_type": "markdown",
   "id": "1a7e5058",
   "metadata": {},
   "source": [
    "__A15 Pandas__"
   ]
  },
  {
   "cell_type": "code",
   "execution_count": 60,
   "id": "2babae4e",
   "metadata": {},
   "outputs": [
    {
     "data": {
      "text/html": [
       "<div>\n",
       "<style scoped>\n",
       "    .dataframe tbody tr th:only-of-type {\n",
       "        vertical-align: middle;\n",
       "    }\n",
       "\n",
       "    .dataframe tbody tr th {\n",
       "        vertical-align: top;\n",
       "    }\n",
       "\n",
       "    .dataframe thead th {\n",
       "        text-align: right;\n",
       "    }\n",
       "</style>\n",
       "<table border=\"1\" class=\"dataframe\">\n",
       "  <thead>\n",
       "    <tr style=\"text-align: right;\">\n",
       "      <th></th>\n",
       "      <th>account_id</th>\n",
       "      <th>date</th>\n",
       "      <th>revenue</th>\n",
       "      <th>previous_revenue</th>\n",
       "      <th>difference</th>\n",
       "    </tr>\n",
       "  </thead>\n",
       "  <tbody>\n",
       "    <tr>\n",
       "      <th>0</th>\n",
       "      <td>4211</td>\n",
       "      <td>2013-12-12 09:48:16</td>\n",
       "      <td>733.89</td>\n",
       "      <td>8680.34</td>\n",
       "      <td>-7946.45</td>\n",
       "    </tr>\n",
       "    <tr>\n",
       "      <th>1</th>\n",
       "      <td>4211</td>\n",
       "      <td>2013-12-12 09:54:34</td>\n",
       "      <td>8680.34</td>\n",
       "      <td>8355.96</td>\n",
       "      <td>324.38</td>\n",
       "    </tr>\n",
       "    <tr>\n",
       "      <th>2</th>\n",
       "      <td>4211</td>\n",
       "      <td>2014-01-11 09:33:59</td>\n",
       "      <td>8355.96</td>\n",
       "      <td>1388.73</td>\n",
       "      <td>6967.23</td>\n",
       "    </tr>\n",
       "    <tr>\n",
       "      <th>3</th>\n",
       "      <td>4211</td>\n",
       "      <td>2014-01-11 09:42:04</td>\n",
       "      <td>1388.73</td>\n",
       "      <td>8077.66</td>\n",
       "      <td>-6688.93</td>\n",
       "    </tr>\n",
       "    <tr>\n",
       "      <th>4</th>\n",
       "      <td>4211</td>\n",
       "      <td>2014-02-09 09:00:48</td>\n",
       "      <td>8077.66</td>\n",
       "      <td>1421.88</td>\n",
       "      <td>6655.78</td>\n",
       "    </tr>\n",
       "  </tbody>\n",
       "</table>\n",
       "</div>"
      ],
      "text/plain": [
       "   account_id                date  revenue  previous_revenue  difference\n",
       "0        4211 2013-12-12 09:48:16   733.89           8680.34    -7946.45\n",
       "1        4211 2013-12-12 09:54:34  8680.34           8355.96      324.38\n",
       "2        4211 2014-01-11 09:33:59  8355.96           1388.73     6967.23\n",
       "3        4211 2014-01-11 09:42:04  1388.73           8077.66    -6688.93\n",
       "4        4211 2014-02-09 09:00:48  8077.66           1421.88     6655.78"
      ]
     },
     "execution_count": 60,
     "metadata": {},
     "output_type": "execute_result"
    }
   ],
   "source": [
    "target_account = df.groupby('account').\\\n",
    "                    agg(total_revenue=('total_amt_usd','sum')).\\\n",
    "                    sort_values('total_revenue',ascending=False).\\\n",
    "                    index[0]\n",
    "\n",
    "a15_pandas = df[df['account']==target_account][['account_id','order_date_time','total_amt_usd']].\\\n",
    "                rename(columns={'total_amt_usd':'revenue','order_date_time':'date'}).\\\n",
    "                sort_values('date').\\\n",
    "                reset_index(drop=True)\n",
    "\n",
    "a15_pandas['previous_revenue'] = a15_pandas['revenue'].shift(-1)\n",
    "a15_pandas['difference'] = (a15_pandas['revenue']-a15_pandas['previous_revenue']).round(2)\n",
    "\n",
    "a15_pandas.to_csv('../results/a15_pandas.csv')\n",
    "a15_pandas.head()"
   ]
  },
  {
   "cell_type": "markdown",
   "id": "7aade1c7",
   "metadata": {},
   "source": [
    "__Comparison__"
   ]
  },
  {
   "cell_type": "code",
   "execution_count": 61,
   "id": "dc43b97c",
   "metadata": {
    "scrolled": true
   },
   "outputs": [
    {
     "data": {
      "text/plain": [
       "account_id          62\n",
       "date                62\n",
       "revenue             62\n",
       "previous_revenue    61\n",
       "difference          61\n",
       "dtype: int64"
      ]
     },
     "execution_count": 61,
     "metadata": {},
     "output_type": "execute_result"
    }
   ],
   "source": [
    "(a15_sql==a15_pandas).sum()"
   ]
  },
  {
   "cell_type": "markdown",
   "id": "dc63c690",
   "metadata": {},
   "source": [
    "The reason why 'previous_revenue' and 'difference' columns are not equal between the two dataframes is that their values in the last rows are NaN because there are no previous values. Since NaN is not a number those values are not equals accoding to pandas alogorithm.\n",
    "\n",
    "\n",
    "\n",
    "So, if NaN is not a nubmer, what is it?...it is a type of very tasty bread...owh wait..that is a different topic!"
   ]
  },
  {
   "cell_type": "code",
   "execution_count": 62,
   "id": "04272f30",
   "metadata": {},
   "outputs": [],
   "source": [
    "conn.close()"
   ]
  }
 ],
 "metadata": {
  "kernelspec": {
   "display_name": "Python 3 (ipykernel)",
   "language": "python",
   "name": "python3"
  },
  "language_info": {
   "codemirror_mode": {
    "name": "ipython",
    "version": 3
   },
   "file_extension": ".py",
   "mimetype": "text/x-python",
   "name": "python",
   "nbconvert_exporter": "python",
   "pygments_lexer": "ipython3",
   "version": "3.9.5"
  }
 },
 "nbformat": 4,
 "nbformat_minor": 5
}
